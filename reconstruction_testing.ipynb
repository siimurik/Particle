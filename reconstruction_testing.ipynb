{
 "cells": [
  {
   "cell_type": "code",
   "execution_count": 1,
   "metadata": {},
   "outputs": [],
   "source": [
    "# Import all the necessary packages\n",
    "#import uproot  # check out the documentation about the basics at https://uproot.readthedocs.io/en/latest/basic.html\n",
    "import os\n",
    "import re\n",
    "import glob\n",
    "import matplotlib.pyplot as plt\n",
    "import awkward as ak\n",
    "import datetime as dt\n",
    "import numpy as np\n",
    "import vector\n",
    "import itertools\n",
    "vector.register_awkward()"
   ]
  },
  {
   "cell_type": "code",
   "execution_count": 2,
   "metadata": {},
   "outputs": [],
   "source": [
    "#path to parquet files\n",
    "DATA_DIR = \".\"\n",
    "PATHS = list(set(glob.glob(os.path.join(DATA_DIR, '*.parquet'))))"
   ]
  },
  {
   "cell_type": "code",
   "execution_count": 3,
   "metadata": {},
   "outputs": [],
   "source": [
    "#filtering function\n",
    "def createFilter(data,minMu,minEl):\n",
    "    mu_isolation_cut = ak.sum(abs(data.Muon_pfRelIso04_all) < 0.4, axis=1) == minMu\n",
    "    muon_pt_cut = ak.sum(data.Muon_pt > 5, axis=1) ==minMu\n",
    "    muon_eta_cut = ak.sum(abs(data.Muon_eta) < 2.4, axis=1) == minMu\n",
    "    muon_sip_cut = ak.sum(abs(data.Muon_sip3d) < 4, axis=1) == minMu\n",
    "    muon_dxy_cut = ak.sum(abs(data.Muon_dxy) < 0.5, axis=1) == minMu\n",
    "    muon_dz_cut = ak.sum(abs(data.Muon_dz) < 1.0, axis=1) == minMu\n",
    "    mu_cuts = mu_isolation_cut * muon_pt_cut * muon_eta_cut * muon_sip_cut * muon_dxy_cut * muon_dz_cut\n",
    "\n",
    "    el_isolation_cut = ak.sum(abs(data.Electron_pfRelIso03_all) < 0.4, axis=1) == minEl\n",
    "    el_pt_cut = ak.sum(data.Electron_pt > 7, axis=1) ==minEl\n",
    "    el_eta_cut = ak.sum(abs(data.Electron_eta) < 2.5, axis=1) == minEl\n",
    "    el_sip_cut = ak.sum(abs(data.Electron_sip3d) < 4, axis=1) == minEl\n",
    "    el_dxy_cut = ak.sum(abs(data.Electron_dxy) < 0.5, axis=1) == minEl\n",
    "    el_dz_cut = ak.sum(abs(data.Electron_dz) < 1.0, axis=1) == minEl\n",
    "    el_cuts = el_isolation_cut * el_pt_cut * el_eta_cut * el_sip_cut * el_dxy_cut * el_dz_cut\n",
    "\n",
    "    return mu_cuts * el_cuts"
   ]
  },
  {
   "cell_type": "code",
   "execution_count": 4,
   "metadata": {},
   "outputs": [
    {
     "name": "stdout",
     "output_type": "stream",
     "text": [
      "Run2012C_DoubleMuParked.parquet Higgs to ZZ to 4 muons sample size: 142\n",
      "Run2012C_DoubleMuParked.parquet Higgs to ZZ to 2 electrons and 2 muons sample size: 125\n",
      "Run2012C_DoubleMuParked.parquet Higgs to ZZ to 4 electrons sample size: 0\n",
      "\n",
      "ZZTo4e.parquet Higgs to ZZ to 4 muons sample size: 0\n",
      "ZZTo4e.parquet Higgs to ZZ to 2 electrons and 2 muons sample size: 0\n",
      "ZZTo4e.parquet Higgs to ZZ to 4 electrons sample size: 70068\n",
      "\n",
      "Run2012C_DoubleElectron.parquet Higgs to ZZ to 4 muons sample size: 0\n",
      "Run2012C_DoubleElectron.parquet Higgs to ZZ to 2 electrons and 2 muons sample size: 97\n",
      "Run2012C_DoubleElectron.parquet Higgs to ZZ to 4 electrons sample size: 48\n",
      "\n",
      "skim.parquet Higgs to ZZ to 4 muons sample size: 0\n",
      "skim.parquet Higgs to ZZ to 2 electrons and 2 muons sample size: 77306\n",
      "skim.parquet Higgs to ZZ to 4 electrons sample size: 0\n",
      "\n",
      "Run2012B_DoubleElectron.parquet Higgs to ZZ to 4 muons sample size: 0\n",
      "Run2012B_DoubleElectron.parquet Higgs to ZZ to 2 electrons and 2 muons sample size: 57\n",
      "Run2012B_DoubleElectron.parquet Higgs to ZZ to 4 electrons sample size: 33\n",
      "\n",
      "Run2012B_DoubleMuParked.parquet Higgs to ZZ to 4 muons sample size: 87\n",
      "Run2012B_DoubleMuParked.parquet Higgs to ZZ to 2 electrons and 2 muons sample size: 81\n",
      "Run2012B_DoubleMuParked.parquet Higgs to ZZ to 4 electrons sample size: 0\n",
      "\n",
      "SMHiggsToZZTo4L.parquet Higgs to ZZ to 4 muons sample size: 8723\n",
      "SMHiggsToZZTo4L.parquet Higgs to ZZ to 2 electrons and 2 muons sample size: 12730\n",
      "SMHiggsToZZTo4L.parquet Higgs to ZZ to 4 electrons sample size: 5706\n",
      "\n",
      "ZZTo2e2mu.parquet Higgs to ZZ to 4 muons sample size: 0\n",
      "ZZTo2e2mu.parquet Higgs to ZZ to 2 electrons and 2 muons sample size: 77306\n",
      "ZZTo2e2mu.parquet Higgs to ZZ to 4 electrons sample size: 0\n",
      "\n",
      "ZZTo4mu.parquet Higgs to ZZ to 4 muons sample size: 111633\n",
      "ZZTo4mu.parquet Higgs to ZZ to 2 electrons and 2 muons sample size: 0\n",
      "ZZTo4mu.parquet Higgs to ZZ to 4 electrons sample size: 0\n",
      "\n"
     ]
    }
   ],
   "source": [
    "variable_dic={}\n",
    "for inf in PATHS:\n",
    "\n",
    "    #reading the files\n",
    "    data=ak.from_parquet(inf)\n",
    "\n",
    "    # E and mu impact parameters and their significance\n",
    "    data['Muon_ip3d']=np.sqrt(data.Muon_dxy*data.Muon_dxy + data.Muon_dz*data.Muon_dz)\n",
    "    data['Muon_sip3d']=data.Muon_ip3d/np.sqrt(data.Muon_dxyErr*data.Muon_dxyErr + data.Muon_dzErr*data.Muon_dzErr)\n",
    "    data['Electron_ip3d']=np.sqrt(data.Electron_dxy*data.Electron_dxy + data.Electron_dz*data.Electron_dz)\n",
    "    data['Electron_sip3d']=data.Electron_ip3d/np.sqrt(data.Electron_dxyErr*data.Electron_dxyErr + data.Electron_dzErr*data.Electron_dzErr)\n",
    "\n",
    "    name=re.search(\"(\\w*).parquet\", inf)\n",
    "    \n",
    "    namepath1=\"hzz4mu\"\n",
    "    namepath2=\"hzz2e2mu\"\n",
    "    namepath3=\"hzz4e\"\n",
    "    \n",
    "    #using the filtering function\n",
    "    fourMu=createFilter(data,4,0)\n",
    "    twoMuTwoE=createFilter(data,2,2)\n",
    "    fourEl=createFilter(data,0,4)\n",
    "    \n",
    "    variable_dic[namepath1+\".\"+name.group()]=data[fourMu]#.to_list()\n",
    "    variable_dic[namepath2+\".\"+name.group()]=data[twoMuTwoE]#.to_list()\n",
    "    variable_dic[namepath3+\".\"+name.group()]=data[fourEl]#.to_list()\n",
    "\n",
    "    # Let's make arrays for the three final states    \n",
    "    #hzz4mu=data[fourMu]#.to_list()\n",
    "    #hzz2e2mu=data[twoMuTwoE]#.to_list()\n",
    "    #hzz4e=data[fourEl]#.to_list()\n",
    "    \n",
    "    \n",
    "    # Sample sizes:\n",
    "    print(name.group()+ \" Higgs to ZZ to 4 muons sample size: %i\" % len(variable_dic[namepath1+\".\"+name.group()]))\n",
    "    print(name.group()+ \" Higgs to ZZ to 2 electrons and 2 muons sample size: %i\" % len(variable_dic[namepath2+\".\"+name.group()]))\n",
    "    print(name.group()+ \" Higgs to ZZ to 4 electrons sample size: %i\\n\" % len(variable_dic[namepath3+\".\"+name.group()]))"
   ]
  },
  {
   "cell_type": "code",
   "execution_count": 5,
   "metadata": {},
   "outputs": [],
   "source": [
    "data=variable_dic['hzz4mu.SMHiggsToZZTo4L.parquet']\n",
    "data2=variable_dic['hzz4e.SMHiggsToZZTo4L.parquet']\n",
    "data3=variable_dic['hzz2e2mu.SMHiggsToZZTo4L.parquet']"
   ]
  },
  {
   "cell_type": "code",
   "execution_count": 6,
   "metadata": {},
   "outputs": [
    {
     "data": {
      "text/plain": [
       "<Record ... Electron_sip3d: []} type='{\"run\": int32, \"luminosityBlock\": uint32, ...'>"
      ]
     },
     "execution_count": 6,
     "metadata": {},
     "output_type": "execute_result"
    }
   ],
   "source": [
    "data[0]"
   ]
  },
  {
   "cell_type": "markdown",
   "metadata": {},
   "source": [
    "### Only Electron interactions"
   ]
  },
  {
   "cell_type": "code",
   "execution_count": 7,
   "metadata": {},
   "outputs": [
    {
     "name": "stdout",
     "output_type": "stream",
     "text": [
      "34895\n",
      "[7.725514161258727, 55.01387254537647, 21.10976537457914, 93.66340214757945, 58.027073599155536]\n",
      "0:00:41.968555\n"
     ]
    }
   ],
   "source": [
    "start=dt.datetime.now()\n",
    "massMuon = []\n",
    "count = 0\n",
    "for e in data:\n",
    "    nMuon = e['nMuon'] # How many compnents in muon vector\n",
    "    mus = []\n",
    "    for i in range(nMuon):\n",
    "        mus.append(vector.obj(pt=e['Muon_pt'][i],eta=e['Muon_eta'][i],\n",
    "                              phi=e['Muon_phi'][i],mass=e['Muon_mass'][i])) # list of vectors\n",
    "        \n",
    "    combos = itertools.combinations(range(nMuon),2) # find combinations like (0, 1), (0, 2),...,(2, 3)\n",
    "    for j in combos:                                # in total there are 6 possible combinations bc of 4 comp\n",
    "        m1 = mus[j[0]] # 1st mass of the combination\n",
    "        m2 = mus[j[1]] # 2nd mass of the combination\n",
    "        z = m1 + m2              # sum of the muon masses \n",
    "        ch1 = e['Muon_charge'][j[0]] # 1st charge of the combination\n",
    "        ch2 = e['Muon_charge'][j[1]] # 2nd charge of the combination\n",
    "        if not (ch1 + ch2): # '+/-' and '+/-' not possible, only '+' and '-'\n",
    "            count = count + 1\n",
    "            massMuon.append(z.mass) # find leptons with different charge combinations \n",
    "                                 # and write into a list named 'massMuon'\n",
    "\n",
    "stop=dt.datetime.now()\n",
    "print(count)      # how many components are in massMuon\n",
    "print(massMuon[0:5]) # print first 5 sums of masses for show\n",
    "print(stop-start)\n"
   ]
  },
  {
   "cell_type": "code",
   "execution_count": 8,
   "metadata": {},
   "outputs": [],
   "source": [
    "# Function to find element\n",
    "# closest to given target.\n",
    "# LINK: https://stackoverflow.com/questions/2566412/find-nearest-value-in-numpy-array\n",
    "# Returns element closest to target in array\n",
    "def find_nearest(array, target):\n",
    "    array = np.asarray(array)\n",
    "    idx = (np.abs(array - target)).argmin()\n",
    "    return array[idx]"
   ]
  },
  {
   "cell_type": "code",
   "execution_count": 9,
   "metadata": {},
   "outputs": [
    {
     "data": {
      "text/plain": [
       "93.00144433793005"
      ]
     },
     "execution_count": 9,
     "metadata": {},
     "output_type": "execute_result"
    }
   ],
   "source": [
    "find_nearest(massMuon, 93)"
   ]
  },
  {
   "cell_type": "markdown",
   "metadata": {},
   "source": [
    "### Only Electron Interactions"
   ]
  },
  {
   "cell_type": "code",
   "execution_count": 10,
   "metadata": {},
   "outputs": [
    {
     "name": "stdout",
     "output_type": "stream",
     "text": [
      "22719\n",
      "[76.75253069603737, 22.80629366154358, 19.941291162775382, 39.070824593451945, 48.75668471208008]\n",
      "0:00:26.033499\n"
     ]
    }
   ],
   "source": [
    "start=dt.datetime.now()\n",
    "massElec = []\n",
    "count = 0\n",
    "for e in data2:\n",
    "    nElec = e['nElectron'] # How many compnents in muon vector\n",
    "    elec = []\n",
    "    for i in range(nElec):\n",
    "        elec.append(vector.obj(pt=e['Electron_pt'][i],eta=e['Electron_eta'][i],\n",
    "                              phi=e['Electron_phi'][i],mass=e['Electron_mass'][i])) # list of vectors\n",
    "        \n",
    "    combos = itertools.combinations(range(nElec),2) # find combinations like (0, 1), (0, 2),...,(2, 3)\n",
    "    for j in combos:                                # in total there are 6 possible combinations bc of 4 comp\n",
    "        m1 = elec[j[0]] # 1st mass of the combination\n",
    "        m2 = elec[j[1]] # 2nd mass of the combination\n",
    "        z = m1 + m2              # sum of the muon masses \n",
    "        ch1 = e['Electron_charge'][j[0]] # 1st charge of the combination\n",
    "        ch2 = e['Electron_charge'][j[1]] # 2nd charge of the combination\n",
    "        if not (ch1 + ch2): # '+/-' and '+/-' not possible, only '+' and '-'\n",
    "            count = count + 1\n",
    "            massElec.append(z.mass) # find leptons with different charge combinations \n",
    "                                 # and write into a list named 'massElec'\n",
    "\n",
    "stop=dt.datetime.now()\n",
    "print(count)      # how many components are in massElec\n",
    "print(massElec[0:5]) # print first 5 sums of masses for show\n",
    "print(stop-start)"
   ]
  },
  {
   "cell_type": "code",
   "execution_count": 11,
   "metadata": {},
   "outputs": [
    {
     "data": {
      "text/plain": [
       "93.00005069277508"
      ]
     },
     "execution_count": 11,
     "metadata": {},
     "output_type": "execute_result"
    }
   ],
   "source": [
    "find_nearest(massElec, 93)"
   ]
  },
  {
   "cell_type": "markdown",
   "metadata": {},
   "source": [
    "### Electron and Muon Interactions"
   ]
  },
  {
   "cell_type": "code",
   "execution_count": 12,
   "metadata": {},
   "outputs": [
    {
     "ename": "TypeError",
     "evalue": "'float' object is not iterable",
     "output_type": "error",
     "traceback": [
      "\u001b[0;31m---------------------------------------------------------------------------\u001b[0m",
      "\u001b[0;31mTypeError\u001b[0m                                 Traceback (most recent call last)",
      "\u001b[1;32m/home/siimep_x11/Documents/Magister/Particle/reconstruction_testing.ipynb Cell 15\u001b[0m in \u001b[0;36m<cell line: 4>\u001b[0;34m()\u001b[0m\n\u001b[1;32m      <a href='vscode-notebook-cell:/home/siimep_x11/Documents/Magister/Particle/reconstruction_testing.ipynb#X20sZmlsZQ%3D%3D?line=5'>6</a>\u001b[0m elmu \u001b[39m=\u001b[39m []\n\u001b[1;32m      <a href='vscode-notebook-cell:/home/siimep_x11/Documents/Magister/Particle/reconstruction_testing.ipynb#X20sZmlsZQ%3D%3D?line=6'>7</a>\u001b[0m \u001b[39mfor\u001b[39;00m i \u001b[39min\u001b[39;00m \u001b[39mrange\u001b[39m(nElMu):\n\u001b[0;32m----> <a href='vscode-notebook-cell:/home/siimep_x11/Documents/Magister/Particle/reconstruction_testing.ipynb#X20sZmlsZQ%3D%3D?line=7'>8</a>\u001b[0m     elmu\u001b[39m.\u001b[39mappend(vector\u001b[39m.\u001b[39mobj( pt   \u001b[39m=\u001b[39m [y \u001b[39mfor\u001b[39;00m x \u001b[39min\u001b[39;00m (e[\u001b[39m'\u001b[39m\u001b[39mElectron_pt\u001b[39m\u001b[39m'\u001b[39m][i],e[\u001b[39m'\u001b[39m\u001b[39mMuon_pt\u001b[39m\u001b[39m'\u001b[39m][i]) \u001b[39mfor\u001b[39;00m y \u001b[39min\u001b[39;00m x],\n\u001b[1;32m      <a href='vscode-notebook-cell:/home/siimep_x11/Documents/Magister/Particle/reconstruction_testing.ipynb#X20sZmlsZQ%3D%3D?line=8'>9</a>\u001b[0m                             eta  \u001b[39m=\u001b[39m [y \u001b[39mfor\u001b[39;00m x \u001b[39min\u001b[39;00m (e[\u001b[39m'\u001b[39m\u001b[39mElectron_eta\u001b[39m\u001b[39m'\u001b[39m][i],e[\u001b[39m'\u001b[39m\u001b[39mMuon_eta\u001b[39m\u001b[39m'\u001b[39m][i]) \u001b[39mfor\u001b[39;00m y \u001b[39min\u001b[39;00m x],\n\u001b[1;32m     <a href='vscode-notebook-cell:/home/siimep_x11/Documents/Magister/Particle/reconstruction_testing.ipynb#X20sZmlsZQ%3D%3D?line=9'>10</a>\u001b[0m                             phi  \u001b[39m=\u001b[39m [y \u001b[39mfor\u001b[39;00m x \u001b[39min\u001b[39;00m (e[\u001b[39m'\u001b[39m\u001b[39mElectron_phi\u001b[39m\u001b[39m'\u001b[39m][i],e[\u001b[39m'\u001b[39m\u001b[39mMuon_phi\u001b[39m\u001b[39m'\u001b[39m][i]) \u001b[39mfor\u001b[39;00m y \u001b[39min\u001b[39;00m x],\n\u001b[1;32m     <a href='vscode-notebook-cell:/home/siimep_x11/Documents/Magister/Particle/reconstruction_testing.ipynb#X20sZmlsZQ%3D%3D?line=10'>11</a>\u001b[0m                             mass \u001b[39m=\u001b[39m [y \u001b[39mfor\u001b[39;00m x \u001b[39min\u001b[39;00m (e[\u001b[39m'\u001b[39m\u001b[39mElectron_mass\u001b[39m\u001b[39m'\u001b[39m][i],e[\u001b[39m'\u001b[39m\u001b[39mMuon_mass\u001b[39m\u001b[39m'\u001b[39m][i]) \u001b[39mfor\u001b[39;00m y \u001b[39min\u001b[39;00m x]\n\u001b[1;32m     <a href='vscode-notebook-cell:/home/siimep_x11/Documents/Magister/Particle/reconstruction_testing.ipynb#X20sZmlsZQ%3D%3D?line=11'>12</a>\u001b[0m                             )) \u001b[39m# cobining \u001b[39;00m\n\u001b[1;32m     <a href='vscode-notebook-cell:/home/siimep_x11/Documents/Magister/Particle/reconstruction_testing.ipynb#X20sZmlsZQ%3D%3D?line=13'>14</a>\u001b[0m combos \u001b[39m=\u001b[39m itertools\u001b[39m.\u001b[39mcombinations(\u001b[39mrange\u001b[39m(nElMu),\u001b[39m2\u001b[39m) \u001b[39m# find combinations like (0, 1), (0, 2),...,(2, 3)\u001b[39;00m\n\u001b[1;32m     <a href='vscode-notebook-cell:/home/siimep_x11/Documents/Magister/Particle/reconstruction_testing.ipynb#X20sZmlsZQ%3D%3D?line=14'>15</a>\u001b[0m \u001b[39mfor\u001b[39;00m j \u001b[39min\u001b[39;00m combos:                                \u001b[39m# in total there are 6 possible combinations bc of 4 comp\u001b[39;00m\n",
      "\u001b[1;32m/home/siimep_x11/Documents/Magister/Particle/reconstruction_testing.ipynb Cell 15\u001b[0m in \u001b[0;36m<listcomp>\u001b[0;34m(.0)\u001b[0m\n\u001b[1;32m      <a href='vscode-notebook-cell:/home/siimep_x11/Documents/Magister/Particle/reconstruction_testing.ipynb#X20sZmlsZQ%3D%3D?line=5'>6</a>\u001b[0m elmu \u001b[39m=\u001b[39m []\n\u001b[1;32m      <a href='vscode-notebook-cell:/home/siimep_x11/Documents/Magister/Particle/reconstruction_testing.ipynb#X20sZmlsZQ%3D%3D?line=6'>7</a>\u001b[0m \u001b[39mfor\u001b[39;00m i \u001b[39min\u001b[39;00m \u001b[39mrange\u001b[39m(nElMu):\n\u001b[0;32m----> <a href='vscode-notebook-cell:/home/siimep_x11/Documents/Magister/Particle/reconstruction_testing.ipynb#X20sZmlsZQ%3D%3D?line=7'>8</a>\u001b[0m     elmu\u001b[39m.\u001b[39mappend(vector\u001b[39m.\u001b[39mobj( pt   \u001b[39m=\u001b[39m [y \u001b[39mfor\u001b[39;00m x \u001b[39min\u001b[39;00m (e[\u001b[39m'\u001b[39m\u001b[39mElectron_pt\u001b[39m\u001b[39m'\u001b[39m][i],e[\u001b[39m'\u001b[39m\u001b[39mMuon_pt\u001b[39m\u001b[39m'\u001b[39m][i]) \u001b[39mfor\u001b[39;00m y \u001b[39min\u001b[39;00m x],\n\u001b[1;32m      <a href='vscode-notebook-cell:/home/siimep_x11/Documents/Magister/Particle/reconstruction_testing.ipynb#X20sZmlsZQ%3D%3D?line=8'>9</a>\u001b[0m                             eta  \u001b[39m=\u001b[39m [y \u001b[39mfor\u001b[39;00m x \u001b[39min\u001b[39;00m (e[\u001b[39m'\u001b[39m\u001b[39mElectron_eta\u001b[39m\u001b[39m'\u001b[39m][i],e[\u001b[39m'\u001b[39m\u001b[39mMuon_eta\u001b[39m\u001b[39m'\u001b[39m][i]) \u001b[39mfor\u001b[39;00m y \u001b[39min\u001b[39;00m x],\n\u001b[1;32m     <a href='vscode-notebook-cell:/home/siimep_x11/Documents/Magister/Particle/reconstruction_testing.ipynb#X20sZmlsZQ%3D%3D?line=9'>10</a>\u001b[0m                             phi  \u001b[39m=\u001b[39m [y \u001b[39mfor\u001b[39;00m x \u001b[39min\u001b[39;00m (e[\u001b[39m'\u001b[39m\u001b[39mElectron_phi\u001b[39m\u001b[39m'\u001b[39m][i],e[\u001b[39m'\u001b[39m\u001b[39mMuon_phi\u001b[39m\u001b[39m'\u001b[39m][i]) \u001b[39mfor\u001b[39;00m y \u001b[39min\u001b[39;00m x],\n\u001b[1;32m     <a href='vscode-notebook-cell:/home/siimep_x11/Documents/Magister/Particle/reconstruction_testing.ipynb#X20sZmlsZQ%3D%3D?line=10'>11</a>\u001b[0m                             mass \u001b[39m=\u001b[39m [y \u001b[39mfor\u001b[39;00m x \u001b[39min\u001b[39;00m (e[\u001b[39m'\u001b[39m\u001b[39mElectron_mass\u001b[39m\u001b[39m'\u001b[39m][i],e[\u001b[39m'\u001b[39m\u001b[39mMuon_mass\u001b[39m\u001b[39m'\u001b[39m][i]) \u001b[39mfor\u001b[39;00m y \u001b[39min\u001b[39;00m x]\n\u001b[1;32m     <a href='vscode-notebook-cell:/home/siimep_x11/Documents/Magister/Particle/reconstruction_testing.ipynb#X20sZmlsZQ%3D%3D?line=11'>12</a>\u001b[0m                             )) \u001b[39m# cobining \u001b[39;00m\n\u001b[1;32m     <a href='vscode-notebook-cell:/home/siimep_x11/Documents/Magister/Particle/reconstruction_testing.ipynb#X20sZmlsZQ%3D%3D?line=13'>14</a>\u001b[0m combos \u001b[39m=\u001b[39m itertools\u001b[39m.\u001b[39mcombinations(\u001b[39mrange\u001b[39m(nElMu),\u001b[39m2\u001b[39m) \u001b[39m# find combinations like (0, 1), (0, 2),...,(2, 3)\u001b[39;00m\n\u001b[1;32m     <a href='vscode-notebook-cell:/home/siimep_x11/Documents/Magister/Particle/reconstruction_testing.ipynb#X20sZmlsZQ%3D%3D?line=14'>15</a>\u001b[0m \u001b[39mfor\u001b[39;00m j \u001b[39min\u001b[39;00m combos:                                \u001b[39m# in total there are 6 possible combinations bc of 4 comp\u001b[39;00m\n",
      "\u001b[0;31mTypeError\u001b[0m: 'float' object is not iterable"
     ]
    }
   ],
   "source": [
    "start=dt.datetime.now()\n",
    "massElMu = []\n",
    "count = 0\n",
    "for e in data3:\n",
    "    nElMu = e['nElectron'] + e['nMuon']# How many compnents in muon vector\n",
    "    elmu = []\n",
    "    for i in range(nElMu):\n",
    "        elmu.append(vector.obj( pt   = [y for x in (e['Electron_pt'][i],e['Muon_pt'][i]) for y in x],\n",
    "                                eta  = [y for x in (e['Electron_eta'][i],e['Muon_eta'][i]) for y in x],\n",
    "                                phi  = [y for x in (e['Electron_phi'][i],e['Muon_phi'][i]) for y in x],\n",
    "                                mass = [y for x in (e['Electron_mass'][i],e['Muon_mass'][i]) for y in x]\n",
    "                                )) # cobining \n",
    "        \n",
    "    combos = itertools.combinations(range(nElMu),2) # find combinations like (0, 1), (0, 2),...,(2, 3)\n",
    "    for j in combos:                                # in total there are 6 possible combinations bc of 4 comp\n",
    "        m1 = elmu[j[0]] # 1st mass of the combination\n",
    "        m2 = elmu[j[1]] # 2nd mass of the combination\n",
    "        z = m1 + m2              # sum of the muon masses \n",
    "        mu_ch1 = e['Muon_charge'][j[0]] # 1st charge of the combination\n",
    "        mu_ch2 = e['Muon_charge'][j[1]] # 2nd charge of the combination\n",
    "        if not (ch1 + ch2): # '+/-' and '+/-' not possible, only '+' and '-'\n",
    "            count = count + 1\n",
    "            massElMu.append(z.mass) # find leptons with different charge combinations \n",
    "                                 # and write into a list named 'massElec'\n",
    "\n",
    "stop=dt.datetime.now()\n",
    "print(count)      # how many components are in massElec\n",
    "print(massElMu[0:5]) # print first 5 sums of masses for show\n",
    "print(stop-start)"
   ]
  },
  {
   "cell_type": "code",
   "execution_count": null,
   "metadata": {},
   "outputs": [],
   "source": []
  }
 ],
 "metadata": {
  "kernelspec": {
   "display_name": "Python 3.10.7 64-bit",
   "language": "python",
   "name": "python3"
  },
  "language_info": {
   "codemirror_mode": {
    "name": "ipython",
    "version": 3
   },
   "file_extension": ".py",
   "mimetype": "text/x-python",
   "name": "python",
   "nbconvert_exporter": "python",
   "pygments_lexer": "ipython3",
   "version": "3.10.7"
  },
  "orig_nbformat": 4,
  "vscode": {
   "interpreter": {
    "hash": "e7370f93d1d0cde622a1f8e1c04877d8463912d04d973331ad4851f04de6915a"
   }
  }
 },
 "nbformat": 4,
 "nbformat_minor": 2
}
