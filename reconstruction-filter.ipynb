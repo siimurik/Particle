{
 "cells": [
  {
   "cell_type": "code",
   "execution_count": 1,
   "id": "b5bdcb19",
   "metadata": {},
   "outputs": [],
   "source": [
    "# Import all the necessary packages\n",
    "#import uproot  # check out the documentation about the basics at https://uproot.readthedocs.io/en/latest/basic.html\n",
    "import os\n",
    "import glob\n",
    "import matplotlib.pyplot as plt\n",
    "import awkward as ak\n",
    "import datetime as dt\n",
    "import numpy as np\n",
    "import vector\n",
    "import itertools\n",
    "vector.register_awkward()\n"
   ]
  },
  {
   "cell_type": "code",
   "execution_count": 2,
   "id": "a062ef57",
   "metadata": {},
   "outputs": [],
   "source": [
    "DATA_DIR = \".\"\n",
    "PATHS = list(set(glob.glob(os.path.join(DATA_DIR, '*.parquet'))))"
   ]
  },
  {
   "cell_type": "code",
   "execution_count": 3,
   "id": "bd6e2ee6",
   "metadata": {},
   "outputs": [
    {
     "data": {
      "text/plain": [
       "<Array [{run: 1, ... MET_phi: 1.89}] type='105625 * {\"run\": int32, \"luminosityBl...'>"
      ]
     },
     "execution_count": 3,
     "metadata": {},
     "output_type": "execute_result"
    }
   ],
   "source": [
    "inf = [i for i in PATHS if 'SMH' in i][0]\n",
    "data = ak.from_parquet(inf)\n",
    "data"
   ]
  },
  {
   "cell_type": "code",
   "execution_count": 4,
   "id": "b3dc35ac",
   "metadata": {},
   "outputs": [
    {
     "name": "stdout",
     "output_type": "stream",
     "text": [
      "0:00:00.081744\n"
     ]
    }
   ],
   "source": [
    "# Let's create additional computed variables\n",
    "start = dt.datetime.now()\n",
    "# E and mu impact parameters and their significance\n",
    "data['Muon_ip3d']      = np.sqrt(data.Muon_dxy*data.Muon_dxy + data.Muon_dz*data.Muon_dz)\n",
    "data['Muon_sip3d']     = data.Muon_ip3d/np.sqrt(data.Muon_dxyErr*data.Muon_dxyErr + data.Muon_dzErr*data.Muon_dzErr)\n",
    "data['Electron_ip3d']  = np.sqrt(data.Electron_dxy*data.Electron_dxy + data.Electron_dz*data.Electron_dz)\n",
    "data['Electron_sip3d'] = data.Electron_ip3d/np.sqrt(data.Electron_dxyErr*data.Electron_dxyErr + data.Electron_dzErr*data.Electron_dzErr)\n",
    "data['mus'] = vector.zip({'pt':data.Muon_pt,'eta':data.Muon_eta,'phi':data.Muon_phi,'mass':data.Muon_mass})\n",
    "stop = dt.datetime.now()\n",
    "print(stop-start)"
   ]
  },
  {
   "cell_type": "code",
   "execution_count": 5,
   "id": "58eab0af",
   "metadata": {},
   "outputs": [
    {
     "name": "stdout",
     "output_type": "stream",
     "text": [
      "0:00:00.346779\n"
     ]
    }
   ],
   "source": [
    "# Let's filter by quality\n",
    "\n",
    "def createFilter(data,minMu,minEl):\n",
    "    mu_isolation_cut = ak.sum(abs(data.Muon_pfRelIso04_all) < 0.4, axis=1) == minMu\n",
    "    muon_pt_cut = ak.sum(data.Muon_pt > 5, axis=1) ==minMu\n",
    "    muon_eta_cut = ak.sum(abs(data.Muon_eta) < 2.4, axis=1) == minMu\n",
    "    muon_sip_cut = ak.sum(abs(data.Muon_sip3d) < 4, axis=1) == minMu\n",
    "    muon_dxy_cut = ak.sum(abs(data.Muon_dxy) < 0.5, axis=1) == minMu\n",
    "    muon_dz_cut = ak.sum(abs(data.Muon_dz) < 1.0, axis=1) == minMu\n",
    "    mu_cuts = mu_isolation_cut * muon_pt_cut * muon_eta_cut * muon_sip_cut * muon_dxy_cut * muon_dz_cut\n",
    "\n",
    "    el_isolation_cut = ak.sum(abs(data.Electron_pfRelIso03_all) < 0.4, axis=1) == minEl\n",
    "    el_pt_cut = ak.sum(data.Electron_pt > 7, axis=1) ==minEl\n",
    "    el_eta_cut = ak.sum(abs(data.Electron_eta) < 2.5, axis=1) == minEl\n",
    "    el_sip_cut = ak.sum(abs(data.Electron_sip3d) < 4, axis=1) == minEl\n",
    "    el_dxy_cut = ak.sum(abs(data.Electron_dxy) < 0.5, axis=1) == minEl\n",
    "    el_dz_cut = ak.sum(abs(data.Electron_dz) < 1.0, axis=1) == minEl\n",
    "    el_cuts = el_isolation_cut * el_pt_cut * el_eta_cut * el_sip_cut * el_dxy_cut * el_dz_cut\n",
    "\n",
    "    return mu_cuts * el_cuts\n",
    "\n",
    "start=dt.datetime.now()\n",
    "\n",
    "fourMu    = createFilter(data,4,0)\n",
    "twoMuTwoE = createFilter(data,2,2)\n",
    "fourEl    = createFilter(data,0,4)\n",
    "\n",
    "stop=dt.datetime.now()\n",
    "print(stop-start)"
   ]
  },
  {
   "cell_type": "code",
   "execution_count": 6,
   "id": "bb220966",
   "metadata": {
    "scrolled": true
   },
   "outputs": [
    {
     "name": "stdout",
     "output_type": "stream",
     "text": [
      "0:00:14.673632\n"
     ]
    }
   ],
   "source": [
    "# Let's make arrays for the three final states\n",
    "start=dt.datetime.now()\n",
    "\n",
    "hzz4mu=data[fourMu].to_list()\n",
    "hzz2e2mu=data[twoMuTwoE].to_list()\n",
    "hzz4e=data[fourEl].to_list()\n",
    "stop=dt.datetime.now()\n",
    "\n",
    "\n",
    "print(stop-start)"
   ]
  },
  {
   "cell_type": "code",
   "execution_count": 66,
   "id": "b952d0d6",
   "metadata": {
    "scrolled": true
   },
   "outputs": [
    {
     "name": "stdout",
     "output_type": "stream",
     "text": [
      "Higgs to ZZ to 4 muons sample size: 8723\n",
      "Higgs to ZZ to 2 electrons and 2 muons sample size: 12730\n",
      "Higgs to ZZ to 4 electrons sample size: 5706\n"
     ]
    }
   ],
   "source": [
    "# Sample sizes:\n",
    "print(\"Higgs to ZZ to 4 muons sample size: %i\" % len(hzz4mu))\n",
    "print(\"Higgs to ZZ to 2 electrons and 2 muons sample size: %i\" % len(hzz2e2mu))\n",
    "print(\"Higgs to ZZ to 4 electrons sample size: %i\" % len(hzz4e))"
   ]
  },
  {
   "cell_type": "code",
   "execution_count": 8,
   "id": "e53fc6b4",
   "metadata": {},
   "outputs": [
    {
     "data": {
      "text/plain": [
       "<itertools.combinations at 0x7f7897bf0180>"
      ]
     },
     "execution_count": 8,
     "metadata": {},
     "output_type": "execute_result"
    }
   ],
   "source": [
    "itertools.combinations(hzz4mu[0]['Muon_pt'], 2)"
   ]
  },
  {
   "cell_type": "code",
   "execution_count": 9,
   "id": "98a12a33",
   "metadata": {},
   "outputs": [
    {
     "name": "stdout",
     "output_type": "stream",
     "text": [
      "(0, 1) \t 0 \t 1\n",
      "(0, 2) \t 0 \t 2\n",
      "(0, 3) \t 0 \t 3\n",
      "(1, 2) \t 1 \t 2\n",
      "(1, 3) \t 1 \t 3\n",
      "(2, 3) \t 2 \t 3\n"
     ]
    }
   ],
   "source": [
    "x = itertools.combinations(range(4),2)\n",
    "for i in x:\n",
    "    print(i,'\\t', i[0], '\\t', i[1])\n"
   ]
  },
  {
   "cell_type": "code",
   "execution_count": 41,
   "id": "3d89dcbc",
   "metadata": {
    "scrolled": false
   },
   "outputs": [
    {
     "name": "stdout",
     "output_type": "stream",
     "text": [
      "[7.725514161258727, 55.01387254537647, 21.10976537457914, 93.66340214757945, 58.027073599155536]\n",
      "34895\n",
      "0:00:08.520506\n"
     ]
    }
   ],
   "source": [
    "start=dt.datetime.now()\n",
    "zmass = []\n",
    "count = 0\n",
    "for e in hzz4mu:\n",
    "    nMuon = e['nMuon'] # How many compnents in muon vector\n",
    "    mus = []\n",
    "    for i in range(nMuon):\n",
    "        mus.append(vector.obj(pt=e['Muon_pt'][i],eta=e['Muon_eta'][i],\n",
    "                              phi=e['Muon_phi'][i],mass=e['Muon_mass'][i])) # list of vectors\n",
    "        \n",
    "    combos = itertools.combinations(range(nMuon),2) # find combinations like (0, 1), (0, 2),...,(2, 3)\n",
    "    for j in combos:                                # in total there are 6 possible combinations bc of 4 comp\n",
    "        m1 = mus[j[0]] # 1st mass of the combination\n",
    "        m2 = mus[j[1]] # 2nd mass of the combination\n",
    "        z = m1 + m2              # sum of the muon masses \n",
    "        ch1 = e['Muon_charge'][j[0]] # 1st charge of the combination\n",
    "        ch2 = e['Muon_charge'][j[1]] # 2nd charge of the combination\n",
    "        if not (ch1 + ch2): # '+/-' and '+/-' not possible, only '+' and '-'\n",
    "            count = count + 1\n",
    "            zmass.append(z.mass) # find leptons with different charge combinations \n",
    "                                 # and write into a list named 'zmass'\n",
    "\n",
    "stop=dt.datetime.now()\n",
    "print(count)      # how many components are in zmass\n",
    "print(zmass[0:5]) # print first 5 sums of masses for show\n",
    "print(stop-start)"
   ]
  },
  {
   "cell_type": "code",
   "execution_count": 65,
   "id": "07ef7c5f",
   "metadata": {},
   "outputs": [],
   "source": [
    "#zmass"
   ]
  },
  {
   "cell_type": "code",
   "execution_count": 63,
   "id": "80f5706c",
   "metadata": {},
   "outputs": [],
   "source": [
    "# Function to find element\n",
    "# closest to given target.\n",
    "# LINK: https://stackoverflow.com/questions/2566412/find-nearest-value-in-numpy-array\n",
    "# Returns element closest to target in array\n",
    "def find_nearest(array, target):\n",
    "    array = np.asarray(array)\n",
    "    idx = (np.abs(array - target)).argmin()\n",
    "    return array[idx]"
   ]
  },
  {
   "cell_type": "code",
   "execution_count": 67,
   "id": "0228d2a5",
   "metadata": {
    "scrolled": true
   },
   "outputs": [
    {
     "data": {
      "text/plain": [
       "93.00144433793005"
      ]
     },
     "execution_count": 67,
     "metadata": {},
     "output_type": "execute_result"
    }
   ],
   "source": [
    "find_nearest(zmass, 93)"
   ]
  },
  {
   "cell_type": "code",
   "execution_count": null,
   "id": "5f0172f1",
   "metadata": {},
   "outputs": [],
   "source": []
  }
 ],
 "metadata": {
  "kernelspec": {
   "display_name": "Python 3 (ipykernel)",
   "language": "python",
   "name": "python3"
  },
  "language_info": {
   "codemirror_mode": {
    "name": "ipython",
    "version": 3
   },
   "file_extension": ".py",
   "mimetype": "text/x-python",
   "name": "python",
   "nbconvert_exporter": "python",
   "pygments_lexer": "ipython3",
   "version": "3.10.7"
  }
 },
 "nbformat": 4,
 "nbformat_minor": 5
}
