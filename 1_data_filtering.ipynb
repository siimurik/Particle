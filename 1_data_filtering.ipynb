{
 "cells": [
  {
   "cell_type": "code",
   "execution_count": 1,
   "metadata": {},
   "outputs": [],
   "source": [
    "# Import all the necessary packages\n",
    "import uproot  # check out the documentation about the basics at https://uproot.readthedocs.io/en/latest/basic.html\n",
    "import os\n",
    "import glob\n",
    "import matplotlib.pyplot as plt\n",
    "import awkward as ak\n",
    "import datetime as dt\n",
    "import vector"
   ]
  },
  {
   "cell_type": "code",
   "execution_count": 2,
   "metadata": {},
   "outputs": [],
   "source": [
    "DATA_DIR = \"/home/siimep_x11/Documents/Magister/Particle\"\n",
    "PATHS = list(set(glob.glob(os.path.join(DATA_DIR, '*.root'))))"
   ]
  },
  {
   "cell_type": "code",
   "execution_count": null,
   "metadata": {},
   "outputs": [],
   "source": [
    "# For the purposes of this lesson, let us open only the first of the MC files.\n",
    "for infile in PATHS:\n",
    "    events = uproot.open(infile + \":Events\") # Take the events directory of the .root file\n",
    "    filtered = events.arrays(None,\"(nMuon+nElectron>3)\")\n",
    "    outfile = infile.split(\"/\")[-1].replace('root', 'parquet')\n",
    "    ak.to_parquet(filtered,outfile)\n",
    "\n",
    "# In order to just browse the contents of the events like datatypes and branch names:\n",
    "#events.show()"
   ]
  },
  {
   "cell_type": "code",
   "execution_count": null,
   "metadata": {},
   "outputs": [],
   "source": [
    "x_new = PATHS[0].split(\"/\")[-1].replace('root', 'parquet')\n",
    "x_new"
   ]
  },
  {
   "cell_type": "code",
   "execution_count": null,
   "metadata": {},
   "outputs": [],
   "source": [
    "filtered = events.arrays(None,\"(nMuon+nElectron>3)\")\n",
    "print(\"Filtered set size: %d / %d\" % (len(filtered),events.num_entries))"
   ]
  },
  {
   "cell_type": "code",
   "execution_count": null,
   "metadata": {},
   "outputs": [],
   "source": [
    "# You can save a filtered array to a file for later usage and faster/slimmer dataset\n",
    "ak.to_parquet(filtered,'skim.parquet')"
   ]
  }
 ],
 "metadata": {
  "kernelspec": {
   "display_name": "Python 3 (ipykernel)",
   "language": "python",
   "name": "python3"
  },
  "language_info": {
   "codemirror_mode": {
    "name": "ipython",
    "version": 3
   },
   "file_extension": ".py",
   "mimetype": "text/x-python",
   "name": "python",
   "nbconvert_exporter": "python",
   "pygments_lexer": "ipython3",
   "version": "3.10.7"
  },
  "vscode": {
   "interpreter": {
    "hash": "e7370f93d1d0cde622a1f8e1c04877d8463912d04d973331ad4851f04de6915a"
   }
  }
 },
 "nbformat": 4,
 "nbformat_minor": 2
}
