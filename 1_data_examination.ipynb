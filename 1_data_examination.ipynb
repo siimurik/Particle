{
 "cells": [
  {
   "cell_type": "code",
   "execution_count": 9,
   "id": "934f732c",
   "metadata": {},
   "outputs": [],
   "source": [
    "# Import all the necessary packages\n",
    "import uproot  # check out the documentation about the basics at https://uproot.readthedocs.io/en/latest/basic.html\n",
    "import os\n",
    "import glob\n",
    "import matplotlib.pyplot as plt\n",
    "import awkward as ak\n",
    "import datetime as dt\n",
    "import vector"
   ]
  },
  {
   "cell_type": "code",
   "execution_count": 10,
   "id": "e20dd2d8",
   "metadata": {},
   "outputs": [],
   "source": [
    "DATA_DIR = \"/home/siimep_x11/Documents/Magister/Particle\"\n",
    "PATHS = list(set(glob.glob(os.path.join(DATA_DIR, '*.root'))))"
   ]
  },
  {
   "cell_type": "code",
   "execution_count": 11,
   "id": "60fc5800",
   "metadata": {
    "scrolled": true
   },
   "outputs": [
    {
     "name": "stdout",
     "output_type": "stream",
     "text": [
      "name                 | typename                 | interpretation                \n",
      "---------------------+--------------------------+-------------------------------\n",
      "run                  | int32_t                  | AsDtype('>i4')\n",
      "luminosityBlock      | uint32_t                 | AsDtype('>u4')\n",
      "event                | uint64_t                 | AsDtype('>u8')\n",
      "PV_npvs              | int32_t                  | AsDtype('>i4')\n",
      "PV_x                 | float                    | AsDtype('>f4')\n",
      "PV_y                 | float                    | AsDtype('>f4')\n",
      "PV_z                 | float                    | AsDtype('>f4')\n",
      "nMuon                | uint32_t                 | AsDtype('>u4')\n",
      "Muon_pt              | float[]                  | AsJagged(AsDtype('>f4'))\n",
      "Muon_eta             | float[]                  | AsJagged(AsDtype('>f4'))\n",
      "Muon_phi             | float[]                  | AsJagged(AsDtype('>f4'))\n",
      "Muon_mass            | float[]                  | AsJagged(AsDtype('>f4'))\n",
      "Muon_charge          | int32_t[]                | AsJagged(AsDtype('>i4'))\n",
      "Muon_pfRelIso03_all  | float[]                  | AsJagged(AsDtype('>f4'))\n",
      "Muon_pfRelIso04_all  | float[]                  | AsJagged(AsDtype('>f4'))\n",
      "Muon_dxy             | float[]                  | AsJagged(AsDtype('>f4'))\n",
      "Muon_dxyErr          | float[]                  | AsJagged(AsDtype('>f4'))\n",
      "Muon_dz              | float[]                  | AsJagged(AsDtype('>f4'))\n",
      "Muon_dzErr           | float[]                  | AsJagged(AsDtype('>f4'))\n",
      "nElectron            | uint32_t                 | AsDtype('>u4')\n",
      "Electron_pt          | float[]                  | AsJagged(AsDtype('>f4'))\n",
      "Electron_eta         | float[]                  | AsJagged(AsDtype('>f4'))\n",
      "Electron_phi         | float[]                  | AsJagged(AsDtype('>f4'))\n",
      "Electron_mass        | float[]                  | AsJagged(AsDtype('>f4'))\n",
      "Electron_charge      | int32_t[]                | AsJagged(AsDtype('>i4'))\n",
      "Electron_pfRelIso... | float[]                  | AsJagged(AsDtype('>f4'))\n",
      "Electron_dxy         | float[]                  | AsJagged(AsDtype('>f4'))\n",
      "Electron_dxyErr      | float[]                  | AsJagged(AsDtype('>f4'))\n",
      "Electron_dz          | float[]                  | AsJagged(AsDtype('>f4'))\n",
      "Electron_dzErr       | float[]                  | AsJagged(AsDtype('>f4'))\n",
      "MET_pt               | float                    | AsDtype('>f4')\n",
      "MET_phi              | float                    | AsDtype('>f4')\n"
     ]
    }
   ],
   "source": [
    "# For the purposes of this lesson, let us open only the first of the MC files.\n",
    "infile = [s for s in PATHS if 'ZZTo2e2mu' in s][0]\n",
    "events = uproot.open(infile + \":Events\") # Take the events directory of the .root file\n",
    "\n",
    "# In order to just browse the contents of the events like datatypes and branch names:\n",
    "events.show()"
   ]
  },
  {
   "cell_type": "code",
   "execution_count": 12,
   "id": "e174218d",
   "metadata": {},
   "outputs": [
    {
     "name": "stdout",
     "output_type": "stream",
     "text": [
      "Total MB needed: 173.2\n",
      "Total number of events: 1497445\n"
     ]
    }
   ],
   "source": [
    "# As the files are large it is unlikely we'll be able to read them fully into memory\n",
    "# for example:\n",
    "nEvents = events.num_entries\n",
    "eventsPerMB = events.num_entries_for(\"1 MB\")\n",
    "print (\"Total MB needed: %.1f\" % (nEvents/eventsPerMB))\n",
    "print (\"Total number of events: %d\" % nEvents)"
   ]
  },
  {
   "cell_type": "code",
   "execution_count": 13,
   "id": "42607be5",
   "metadata": {},
   "outputs": [
    {
     "name": "stdout",
     "output_type": "stream",
     "text": [
      "Starting events 0 until 5000\n",
      "Starting events 5000 until 10000\n",
      "Starting events 10000 until 15000\n",
      "Starting events 15000 until 20000\n",
      "Starting events 20000 until 25000\n",
      "Starting events 25000 until 30000\n",
      "Starting events 30000 until 35000\n",
      "Starting events 35000 until 40000\n",
      "Starting events 40000 until 45000\n",
      "Starting events 45000 until 50000\n",
      "Starting events 50000 until 55000\n",
      "Starting events 55000 until 60000\n",
      "Starting events 60000 until 65000\n",
      "Starting events 65000 until 70000\n",
      "Starting events 70000 until 75000\n",
      "Starting events 75000 until 80000\n",
      "Starting events 80000 until 85000\n",
      "Starting events 85000 until 90000\n",
      "Starting events 90000 until 95000\n",
      "Starting events 95000 until 100000\n",
      "0:00:22.978814\n"
     ]
    }
   ],
   "source": [
    "# So if we want to process those events we should iterate over them\n",
    "# However it's reasonable to read the events in in batches to make processing them faster\n",
    "batch_size = 5000\n",
    "\n",
    "# Let's create two vectors for later plotting\n",
    "muonPt = []\n",
    "numMuons = []\n",
    "ePt = []\n",
    "numE = []\n",
    "\n",
    "nev = 0\n",
    "start=dt.datetime.now()\n",
    "for batch in events.iterate(step_size=batch_size):\n",
    "    print(\"Starting events %d until %d\" % (nev,nev+batch_size))\n",
    "    nev+=batch_size\n",
    "    # Let's convert the batch of events to an awkward array\n",
    "    for ev in batch:\n",
    "        numMuons.append(ev['nMuon'])\n",
    "        muonPt+=ev['Muon_pt'].to_list()\n",
    "        numE.append(ev['nElectron'])\n",
    "        ePt+=ev['Electron_pt'].to_list()\n",
    "\n",
    "    # Let's only look the first ca 100k events\n",
    "    if nev >= 100000: break\n",
    "stop=dt.datetime.now()\n",
    "print(stop-start)"
   ]
  },
  {
   "cell_type": "code",
   "execution_count": 14,
   "id": "cc53149b",
   "metadata": {},
   "outputs": [
    {
     "data": {
      "image/png": "[encoded data removed]",
      "text/plain": [
       "<Figure size 432x288 with 1 Axes>"
      ]
     },
     "metadata": {
      "needs_background": "light"
     },
     "output_type": "display_data"
    },
    {
     "data": {
      "image/png": "[encoded data removed]",
      "text/plain": [
       "<Figure size 432x288 with 1 Axes>"
      ]
     },
     "metadata": {
      "needs_background": "light"
     },
     "output_type": "display_data"
    }
   ],
   "source": [
    "# Let's now plot those two distributions\n",
    "plt.hist(numMuons,bins=range(5),alpha=0.5,label='Muons')\n",
    "plt.hist(numE,bins=range(5),alpha=0.5,label='Electrons')\n",
    "plt.legend()\n",
    "plt.show()\n",
    "plt.hist(muonPt,bins=range(100),alpha=0.5,label='Muons')\n",
    "plt.hist(ePt,bins=range(100),alpha=0.5,label='Electrons')\n",
    "plt.legend()\n",
    "plt.show()"
   ]
  },
  {
   "cell_type": "code",
   "execution_count": 15,
   "id": "63286dc8",
   "metadata": {},
   "outputs": [
    {
     "name": "stdout",
     "output_type": "stream",
     "text": [
      "Starting events 0 until 5000\n",
      "Starting events 5000 until 10000\n",
      "Starting events 10000 until 15000\n",
      "Starting events 15000 until 20000\n",
      "Starting events 20000 until 25000\n",
      "Starting events 25000 until 30000\n",
      "Starting events 30000 until 35000\n",
      "Starting events 35000 until 40000\n",
      "Starting events 40000 until 45000\n",
      "Starting events 45000 until 50000\n",
      "Starting events 50000 until 55000\n",
      "Starting events 55000 until 60000\n",
      "Starting events 60000 until 65000\n",
      "Starting events 65000 until 70000\n",
      "Starting events 70000 until 75000\n",
      "Starting events 75000 until 80000\n",
      "Starting events 80000 until 85000\n",
      "Starting events 85000 until 90000\n",
      "Starting events 90000 until 95000\n",
      "Starting events 95000 until 100000\n",
      "0:00:05.977612\n"
     ]
    }
   ],
   "source": [
    "# As you saw it takes quite a time to process even just 100k events. The datasets however contains 126M events...\n",
    "# So first off let's do some optimization:\n",
    "#   We don't need to read all variables if we don't plan to use them\n",
    "#   We can also filter by some criteria, for example if we are looking for only events with at least 2 muons\n",
    "batch_size = 5000\n",
    "\n",
    "# Let's create two vectors for later plotting\n",
    "muonPt = []\n",
    "numMuons = []\n",
    "ePt = []\n",
    "numE = []\n",
    "nev = 0\n",
    "start=dt.datetime.now()\n",
    "\n",
    "\n",
    "for batch in events.iterate(step_size=batch_size,\n",
    "                            expressions=[\"nMuon\",\"Muon_pt\",\"nElectron\",\"Electron_pt\"],\n",
    "                            cut=\"nMuon+nElectron>3\"):\n",
    "    print(\"Starting events %d until %d\" % (nev,nev+batch_size))\n",
    "    nev+=batch_size\n",
    "    # Let's convert the batch of events to an awkward array\n",
    "    for ev in batch:\n",
    "        numMuons.append(ev['nMuon'])\n",
    "        muonPt+=ev['Muon_pt'].to_list()\n",
    "        numE.append(ev['nElectron'])\n",
    "        ePt+=ev['Electron_pt'].to_list()\n",
    "\n",
    "    # Let's only look the first ca 50k events\n",
    "    if nev >= 100000: break\n",
    "        \n",
    "stop=dt.datetime.now()\n",
    "print(stop-start)"
   ]
  },
  {
   "cell_type": "code",
   "execution_count": 16,
   "id": "706f03c5",
   "metadata": {},
   "outputs": [
    {
     "data": {
      "image/png": "[encoded data removed]",
      "text/plain": [
       "<Figure size 432x288 with 1 Axes>"
      ]
     },
     "metadata": {
      "needs_background": "light"
     },
     "output_type": "display_data"
    },
    {
     "data": {
      "image/png": "[encoded data removed]",
      "text/plain": [
       "<Figure size 432x288 with 1 Axes>"
      ]
     },
     "metadata": {
      "needs_background": "light"
     },
     "output_type": "display_data"
    }
   ],
   "source": [
    "# Let's now plot those two distributions\n",
    "plt.hist(numMuons,bins=range(5),alpha=0.5,label='Muons')\n",
    "plt.hist(numE,bins=range(5),alpha=0.5,label='Electrons')\n",
    "plt.legend()\n",
    "plt.show()\n",
    "plt.hist(muonPt,bins=range(100),alpha=0.5,label='Muons')\n",
    "plt.hist(ePt,bins=range(100),alpha=0.5,label='Electrons')\n",
    "plt.legend()\n",
    "plt.show()"
   ]
  },
  {
   "cell_type": "code",
   "execution_count": 17,
   "id": "96afd836",
   "metadata": {},
   "outputs": [
    {
     "name": "stdout",
     "output_type": "stream",
     "text": [
      "Filtered set size: 307545 / 1497445\n"
     ]
    }
   ],
   "source": [
    "filtered = events.arrays(None,\"(nMuon+nElectron>3)\")\n",
    "print(\"Filtered set size: %d / %d\" % (len(filtered),events.num_entries))"
   ]
  },
  {
   "cell_type": "code",
   "execution_count": 19,
   "id": "70eb2f42",
   "metadata": {},
   "outputs": [
    {
     "ename": "ModuleNotFoundError",
     "evalue": "to use ak.to_parquet, you must install pyarrow:\n\n    pip install pyarrow\n\nor\n\n    conda install -c conda-forge pyarrow\n",
     "output_type": "error",
     "traceback": [
      "\u001b[0;31m---------------------------------------------------------------------------\u001b[0m",
      "\u001b[0;31mModuleNotFoundError\u001b[0m                       Traceback (most recent call last)",
      "\u001b[1;32m/home/siimep_x11/Documents/Magister/Particle/1_data_examination.ipynb Cell 10\u001b[0m in \u001b[0;36m<cell line: 2>\u001b[0;34m()\u001b[0m\n\u001b[1;32m      <a href='vscode-notebook-cell:/home/siimep_x11/Documents/Magister/Particle/1_data_examination.ipynb#X12sZmlsZQ%3D%3D?line=0'>1</a>\u001b[0m \u001b[39m# You can save a filtered array to a file for later usage and faster/slimmer dataset\u001b[39;00m\n\u001b[0;32m----> <a href='vscode-notebook-cell:/home/siimep_x11/Documents/Magister/Particle/1_data_examination.ipynb#X12sZmlsZQ%3D%3D?line=1'>2</a>\u001b[0m ak\u001b[39m.\u001b[39mto_parquet(filtered,\u001b[39m'\u001b[39m\u001b[39mskim.parquet\u001b[39m\u001b[39m'\u001b[39m)\n\u001b[1;32m      <a href='vscode-notebook-cell:/home/siimep_x11/Documents/Magister/Particle/1_data_examination.ipynb#X12sZmlsZQ%3D%3D?line=3'>4</a>\u001b[0m \u001b[39m# You can also read it from said file (in a different notebook for example)\u001b[39;00m\n\u001b[1;32m      <a href='vscode-notebook-cell:/home/siimep_x11/Documents/Magister/Particle/1_data_examination.ipynb#X12sZmlsZQ%3D%3D?line=4'>5</a>\u001b[0m dataset \u001b[39m=\u001b[39m ak\u001b[39m.\u001b[39mfrom_parquet(\u001b[39m'\u001b[39m\u001b[39mskim.parquet\u001b[39m\u001b[39m'\u001b[39m)\n",
      "File \u001b[0;32m~/.local/lib/python3.10/site-packages/awkward/operations/convert.py:3018\u001b[0m, in \u001b[0;36mto_parquet\u001b[0;34m(array, where, explode_records, list_to32, string_to32, bytestring_to32, **options)\u001b[0m\n\u001b[1;32m   2961\u001b[0m \u001b[39mdef\u001b[39;00m \u001b[39mto_parquet\u001b[39m(\n\u001b[1;32m   2962\u001b[0m     array,\n\u001b[1;32m   2963\u001b[0m     where,\n\u001b[0;32m   (...)\u001b[0m\n\u001b[1;32m   2968\u001b[0m     \u001b[39m*\u001b[39m\u001b[39m*\u001b[39moptions,\n\u001b[1;32m   2969\u001b[0m ):\n\u001b[1;32m   2970\u001b[0m     \u001b[39m\"\"\"\u001b[39;00m\n\u001b[1;32m   2971\u001b[0m \u001b[39m    Args:\u001b[39;00m\n\u001b[1;32m   2972\u001b[0m \u001b[39m        array: Data to write to a Parquet file.\u001b[39;00m\n\u001b[0;32m   (...)\u001b[0m\n\u001b[1;32m   3016\u001b[0m \u001b[39m    See also #ak.from_parquet.\u001b[39;00m\n\u001b[1;32m   3017\u001b[0m \u001b[39m    \"\"\"\u001b[39;00m\n\u001b[0;32m-> 3018\u001b[0m     pyarrow \u001b[39m=\u001b[39m _import_pyarrow(\u001b[39m\"\u001b[39;49m\u001b[39mak.to_parquet\u001b[39;49m\u001b[39m\"\u001b[39;49m)\n\u001b[1;32m   3019\u001b[0m     \u001b[39mimport\u001b[39;00m \u001b[39mpyarrow\u001b[39;00m\u001b[39m.\u001b[39;00m\u001b[39mparquet\u001b[39;00m\n\u001b[1;32m   3021\u001b[0m     options[\u001b[39m\"\u001b[39m\u001b[39mwhere\u001b[39m\u001b[39m\"\u001b[39m] \u001b[39m=\u001b[39m where\n",
      "File \u001b[0;32m~/.local/lib/python3.10/site-packages/awkward/operations/convert.py:1981\u001b[0m, in \u001b[0;36m_import_pyarrow\u001b[0;34m(name)\u001b[0m\n\u001b[1;32m   1979\u001b[0m         \u001b[39mimport\u001b[39;00m \u001b[39mpyarrow\u001b[39;00m\n\u001b[1;32m   1980\u001b[0m     \u001b[39mexcept\u001b[39;00m \u001b[39mModuleNotFoundError\u001b[39;00m:\n\u001b[0;32m-> 1981\u001b[0m         \u001b[39mraise\u001b[39;00m \u001b[39mModuleNotFoundError\u001b[39;00m(\n\u001b[1;32m   1982\u001b[0m             \u001b[39mf\u001b[39m\u001b[39m\"\"\"\u001b[39m\u001b[39mto use \u001b[39m\u001b[39m{\u001b[39;00mname\u001b[39m}\u001b[39;00m\u001b[39m, you must install pyarrow:\u001b[39m\n\u001b[1;32m   1983\u001b[0m \n\u001b[1;32m   1984\u001b[0m \u001b[39m    pip install pyarrow\u001b[39m\n\u001b[1;32m   1985\u001b[0m \n\u001b[1;32m   1986\u001b[0m \u001b[39mor\u001b[39m\n\u001b[1;32m   1987\u001b[0m \n\u001b[1;32m   1988\u001b[0m \u001b[39m    conda install -c conda-forge pyarrow\u001b[39m\n\u001b[1;32m   1989\u001b[0m \u001b[39m\"\"\"\u001b[39m\n\u001b[1;32m   1990\u001b[0m         ) \u001b[39mfrom\u001b[39;00m \u001b[39mNone\u001b[39m\n\u001b[1;32m   1991\u001b[0m     \u001b[39melse\u001b[39;00m:\n\u001b[1;32m   1992\u001b[0m         \u001b[39mif\u001b[39;00m ak\u001b[39m.\u001b[39m_v2\u001b[39m.\u001b[39m_util\u001b[39m.\u001b[39mparse_version(pyarrow\u001b[39m.\u001b[39m__version__) \u001b[39m<\u001b[39m ak\u001b[39m.\u001b[39m_v2\u001b[39m.\u001b[39m_util\u001b[39m.\u001b[39mparse_version(\n\u001b[1;32m   1993\u001b[0m             \u001b[39m\"\u001b[39m\u001b[39m2.0.0\u001b[39m\u001b[39m\"\u001b[39m\n\u001b[1;32m   1994\u001b[0m         ):\n",
      "\u001b[0;31mModuleNotFoundError\u001b[0m: to use ak.to_parquet, you must install pyarrow:\n\n    pip install pyarrow\n\nor\n\n    conda install -c conda-forge pyarrow\n"
     ]
    }
   ],
   "source": [
    "# You can save a filtered array to a file for later usage and faster/slimmer dataset\n",
    "ak.to_parquet(filtered,'skim.parquet')\n",
    "\n",
    "# You can also read it from said file (in a different notebook for example)\n",
    "dataset = ak.from_parquet('skim.parquet')"
   ]
  },
  {
   "cell_type": "markdown",
   "id": "222acf79",
   "metadata": {},
   "source": [
    "# Individual work\n",
    "\n",
    "Your task now is to find how to reduce the datasets further without limiting too much the samples in advance\n",
    "and then trimming the samples smaller. Goal is to reduce the dataset enough that you can run through events to parse them and compute output values"
   ]
  },
  {
   "cell_type": "code",
   "execution_count": null,
   "id": "2f73fb86",
   "metadata": {},
   "outputs": [],
   "source": []
  }
 ],
 "metadata": {
  "kernelspec": {
   "display_name": "Python 3.10.7 64-bit",
   "language": "python",
   "name": "python3"
  },
  "language_info": {
   "codemirror_mode": {
    "name": "ipython",
    "version": 3
   },
   "file_extension": ".py",
   "mimetype": "text/x-python",
   "name": "python",
   "nbconvert_exporter": "python",
   "pygments_lexer": "ipython3",
   "version": "3.11.0 (main, Oct 24 2022, 00:00:00) [GCC 12.2.1 20220819 (Red Hat 12.2.1-2)]"
  },
  "vscode": {
   "interpreter": {
    "hash": "e7370f93d1d0cde622a1f8e1c04877d8463912d04d973331ad4851f04de6915a"
   }
  }
 },
 "nbformat": 4,
 "nbformat_minor": 5
}
