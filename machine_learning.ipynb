{
 "cells": [
  {
   "cell_type": "markdown",
   "metadata": {},
   "source": [
    "# Machine learning on a tabular dataset"
   ]
  },
  {
   "cell_type": "markdown",
   "metadata": {},
   "source": [
    "Distinguishing Higgs boson (signal) events from events without Higgs.\n",
    "\n",
    "You have learned to do it with cuts - \"linearly\".\n",
    "\n",
    "Now let's try to distinguish the events with a machine learning classifier to increase the signal/background ratio and make the analysis more sensitive."
   ]
  },
  {
   "cell_type": "code",
   "execution_count": 1,
   "metadata": {},
   "outputs": [],
   "source": [
    "import matplotlib.pyplot as plt\n",
    "%matplotlib inline"
   ]
  },
  {
   "cell_type": "code",
   "execution_count": 2,
   "metadata": {},
   "outputs": [],
   "source": [
    "import pickle\n",
    "import torch\n",
    "import numpy as np\n",
    "from torch.utils.data import TensorDataset, DataLoader"
   ]
  },
  {
   "cell_type": "code",
   "execution_count": 3,
   "metadata": {},
   "outputs": [],
   "source": [
    "data = pickle.load(open('htautau.pkl','rb'))"
   ]
  },
  {
   "cell_type": "code",
   "execution_count": 4,
   "metadata": {},
   "outputs": [
    {
     "data": {
      "text/plain": [
       "dict_keys(['Run2012B_TauPlusX', 'DYJetsToLL', 'GluGluToHToTauTau', 'TTbar', 'W1JetsToLNu', 'W2JetsToLNu', 'VBF_HToTauTau', 'Run2012C_TauPlusX', 'W3JetsToLNu'])"
      ]
     },
     "execution_count": 4,
     "metadata": {},
     "output_type": "execute_result"
    }
   ],
   "source": [
    "data.keys()"
   ]
  },
  {
   "cell_type": "markdown",
   "metadata": {},
   "source": [
    "Let's take a look at one of the datasets - a ttbar simulation. This is a typical background process for many Higgs analyses, because the top quarks can decay into various channels which can fake a Higgs signal.\n",
    "\n",
    "We have ~36k simulated events, and a number of features for each event."
   ]
  },
  {
   "cell_type": "code",
   "execution_count": 5,
   "metadata": {},
   "outputs": [
    {
     "data": {
      "text/plain": [
       "Index(['njets', 'npv', 'pt_1', 'eta_1', 'phi_1', 'm_1', 'iso_1', 'q_1', 'mt_1',\n",
       "       'pt_2', 'eta_2', 'phi_2', 'm_2', 'iso_2', 'q_2', 'mt_2', 'dm_2',\n",
       "       'jpt_1', 'jeta_1', 'jphi_1', 'jm_1', 'jbtag_1', 'jpt_2', 'jeta_2',\n",
       "       'jphi_2', 'jm_2', 'jbtag_2', 'pt_met', 'phi_met', 'm_vis', 'pt_vis',\n",
       "       'mjj', 'ptjj', 'jdeta', 'gen_match', 'run', 'weight'],\n",
       "      dtype='object')"
      ]
     },
     "execution_count": 5,
     "metadata": {},
     "output_type": "execute_result"
    }
   ],
   "source": [
    "data[\"TTbar\"].keys()"
   ]
  },
  {
   "cell_type": "code",
   "execution_count": 6,
   "metadata": {},
   "outputs": [
    {
     "data": {
      "text/html": [
       "<div>\n",
       "<style scoped>\n",
       "    .dataframe tbody tr th:only-of-type {\n",
       "        vertical-align: middle;\n",
       "    }\n",
       "\n",
       "    .dataframe tbody tr th {\n",
       "        vertical-align: top;\n",
       "    }\n",
       "\n",
       "    .dataframe thead th {\n",
       "        text-align: right;\n",
       "    }\n",
       "</style>\n",
       "<table border=\"1\" class=\"dataframe\">\n",
       "  <thead>\n",
       "    <tr style=\"text-align: right;\">\n",
       "      <th></th>\n",
       "      <th>njets</th>\n",
       "      <th>npv</th>\n",
       "      <th>pt_1</th>\n",
       "      <th>eta_1</th>\n",
       "      <th>phi_1</th>\n",
       "      <th>m_1</th>\n",
       "      <th>iso_1</th>\n",
       "      <th>q_1</th>\n",
       "      <th>mt_1</th>\n",
       "      <th>pt_2</th>\n",
       "      <th>...</th>\n",
       "      <th>pt_met</th>\n",
       "      <th>phi_met</th>\n",
       "      <th>m_vis</th>\n",
       "      <th>pt_vis</th>\n",
       "      <th>mjj</th>\n",
       "      <th>ptjj</th>\n",
       "      <th>jdeta</th>\n",
       "      <th>gen_match</th>\n",
       "      <th>run</th>\n",
       "      <th>weight</th>\n",
       "    </tr>\n",
       "    <tr>\n",
       "      <th>entry</th>\n",
       "      <th></th>\n",
       "      <th></th>\n",
       "      <th></th>\n",
       "      <th></th>\n",
       "      <th></th>\n",
       "      <th></th>\n",
       "      <th></th>\n",
       "      <th></th>\n",
       "      <th></th>\n",
       "      <th></th>\n",
       "      <th></th>\n",
       "      <th></th>\n",
       "      <th></th>\n",
       "      <th></th>\n",
       "      <th></th>\n",
       "      <th></th>\n",
       "      <th></th>\n",
       "      <th></th>\n",
       "      <th></th>\n",
       "      <th></th>\n",
       "      <th></th>\n",
       "    </tr>\n",
       "  </thead>\n",
       "  <tbody>\n",
       "    <tr>\n",
       "      <th>0</th>\n",
       "      <td>3</td>\n",
       "      <td>13</td>\n",
       "      <td>28.667351</td>\n",
       "      <td>1.562036</td>\n",
       "      <td>-0.842856</td>\n",
       "      <td>0.105658</td>\n",
       "      <td>0.000000</td>\n",
       "      <td>1</td>\n",
       "      <td>80.909939</td>\n",
       "      <td>36.405731</td>\n",
       "      <td>...</td>\n",
       "      <td>60.111469</td>\n",
       "      <td>2.751014</td>\n",
       "      <td>26.211727</td>\n",
       "      <td>60.862858</td>\n",
       "      <td>130.860291</td>\n",
       "      <td>38.344780</td>\n",
       "      <td>1.321880</td>\n",
       "      <td>False</td>\n",
       "      <td>1</td>\n",
       "      <td>0.402044</td>\n",
       "    </tr>\n",
       "    <tr>\n",
       "      <th>1</th>\n",
       "      <td>2</td>\n",
       "      <td>17</td>\n",
       "      <td>76.649849</td>\n",
       "      <td>-0.184059</td>\n",
       "      <td>1.773671</td>\n",
       "      <td>0.105658</td>\n",
       "      <td>0.009272</td>\n",
       "      <td>1</td>\n",
       "      <td>22.561057</td>\n",
       "      <td>28.185574</td>\n",
       "      <td>...</td>\n",
       "      <td>53.055363</td>\n",
       "      <td>1.418015</td>\n",
       "      <td>48.864986</td>\n",
       "      <td>102.870186</td>\n",
       "      <td>471.998077</td>\n",
       "      <td>151.001190</td>\n",
       "      <td>-2.423236</td>\n",
       "      <td>False</td>\n",
       "      <td>1</td>\n",
       "      <td>0.402044</td>\n",
       "    </tr>\n",
       "    <tr>\n",
       "      <th>2</th>\n",
       "      <td>5</td>\n",
       "      <td>20</td>\n",
       "      <td>40.108189</td>\n",
       "      <td>1.004245</td>\n",
       "      <td>2.685524</td>\n",
       "      <td>0.105658</td>\n",
       "      <td>0.031531</td>\n",
       "      <td>1</td>\n",
       "      <td>17.254477</td>\n",
       "      <td>20.238079</td>\n",
       "      <td>...</td>\n",
       "      <td>2.037169</td>\n",
       "      <td>-1.062208</td>\n",
       "      <td>60.555405</td>\n",
       "      <td>23.285250</td>\n",
       "      <td>207.719421</td>\n",
       "      <td>24.611734</td>\n",
       "      <td>0.925452</td>\n",
       "      <td>True</td>\n",
       "      <td>1</td>\n",
       "      <td>0.402044</td>\n",
       "    </tr>\n",
       "    <tr>\n",
       "      <th>3</th>\n",
       "      <td>2</td>\n",
       "      <td>18</td>\n",
       "      <td>17.215254</td>\n",
       "      <td>-1.608321</td>\n",
       "      <td>0.190183</td>\n",
       "      <td>0.105658</td>\n",
       "      <td>0.042270</td>\n",
       "      <td>-1</td>\n",
       "      <td>42.682263</td>\n",
       "      <td>26.714300</td>\n",
       "      <td>...</td>\n",
       "      <td>65.352066</td>\n",
       "      <td>-1.189085</td>\n",
       "      <td>45.746376</td>\n",
       "      <td>36.980255</td>\n",
       "      <td>139.373489</td>\n",
       "      <td>82.207253</td>\n",
       "      <td>-1.183147</td>\n",
       "      <td>False</td>\n",
       "      <td>1</td>\n",
       "      <td>0.402044</td>\n",
       "    </tr>\n",
       "    <tr>\n",
       "      <th>4</th>\n",
       "      <td>6</td>\n",
       "      <td>21</td>\n",
       "      <td>46.573315</td>\n",
       "      <td>-0.950096</td>\n",
       "      <td>2.138021</td>\n",
       "      <td>0.105658</td>\n",
       "      <td>0.057344</td>\n",
       "      <td>1</td>\n",
       "      <td>59.807889</td>\n",
       "      <td>47.802555</td>\n",
       "      <td>...</td>\n",
       "      <td>69.078201</td>\n",
       "      <td>1.027376</td>\n",
       "      <td>96.430687</td>\n",
       "      <td>94.001167</td>\n",
       "      <td>257.197113</td>\n",
       "      <td>101.881531</td>\n",
       "      <td>2.388012</td>\n",
       "      <td>False</td>\n",
       "      <td>1</td>\n",
       "      <td>0.402044</td>\n",
       "    </tr>\n",
       "    <tr>\n",
       "      <th>...</th>\n",
       "      <td>...</td>\n",
       "      <td>...</td>\n",
       "      <td>...</td>\n",
       "      <td>...</td>\n",
       "      <td>...</td>\n",
       "      <td>...</td>\n",
       "      <td>...</td>\n",
       "      <td>...</td>\n",
       "      <td>...</td>\n",
       "      <td>...</td>\n",
       "      <td>...</td>\n",
       "      <td>...</td>\n",
       "      <td>...</td>\n",
       "      <td>...</td>\n",
       "      <td>...</td>\n",
       "      <td>...</td>\n",
       "      <td>...</td>\n",
       "      <td>...</td>\n",
       "      <td>...</td>\n",
       "      <td>...</td>\n",
       "      <td>...</td>\n",
       "    </tr>\n",
       "    <tr>\n",
       "      <th>36861</th>\n",
       "      <td>6</td>\n",
       "      <td>22</td>\n",
       "      <td>23.628647</td>\n",
       "      <td>1.839439</td>\n",
       "      <td>1.272713</td>\n",
       "      <td>0.105658</td>\n",
       "      <td>0.132470</td>\n",
       "      <td>1</td>\n",
       "      <td>81.719287</td>\n",
       "      <td>20.719923</td>\n",
       "      <td>...</td>\n",
       "      <td>133.357239</td>\n",
       "      <td>2.903198</td>\n",
       "      <td>12.645602</td>\n",
       "      <td>43.711403</td>\n",
       "      <td>329.632202</td>\n",
       "      <td>46.506054</td>\n",
       "      <td>2.945638</td>\n",
       "      <td>False</td>\n",
       "      <td>1</td>\n",
       "      <td>0.402044</td>\n",
       "    </tr>\n",
       "    <tr>\n",
       "      <th>36862</th>\n",
       "      <td>1</td>\n",
       "      <td>13</td>\n",
       "      <td>18.357796</td>\n",
       "      <td>1.270961</td>\n",
       "      <td>2.813488</td>\n",
       "      <td>0.105658</td>\n",
       "      <td>0.027570</td>\n",
       "      <td>-1</td>\n",
       "      <td>64.936889</td>\n",
       "      <td>53.670872</td>\n",
       "      <td>...</td>\n",
       "      <td>96.485214</td>\n",
       "      <td>1.051181</td>\n",
       "      <td>90.164818</td>\n",
       "      <td>46.692497</td>\n",
       "      <td>-999.000000</td>\n",
       "      <td>-999.000000</td>\n",
       "      <td>-999.000000</td>\n",
       "      <td>False</td>\n",
       "      <td>1</td>\n",
       "      <td>0.402044</td>\n",
       "    </tr>\n",
       "    <tr>\n",
       "      <th>36863</th>\n",
       "      <td>2</td>\n",
       "      <td>17</td>\n",
       "      <td>52.057220</td>\n",
       "      <td>-0.379592</td>\n",
       "      <td>0.721136</td>\n",
       "      <td>0.105658</td>\n",
       "      <td>0.009719</td>\n",
       "      <td>1</td>\n",
       "      <td>39.442700</td>\n",
       "      <td>66.956032</td>\n",
       "      <td>...</td>\n",
       "      <td>65.936806</td>\n",
       "      <td>0.034499</td>\n",
       "      <td>116.174332</td>\n",
       "      <td>65.213791</td>\n",
       "      <td>88.366661</td>\n",
       "      <td>86.378456</td>\n",
       "      <td>0.057873</td>\n",
       "      <td>False</td>\n",
       "      <td>1</td>\n",
       "      <td>0.402044</td>\n",
       "    </tr>\n",
       "    <tr>\n",
       "      <th>36864</th>\n",
       "      <td>2</td>\n",
       "      <td>12</td>\n",
       "      <td>110.768692</td>\n",
       "      <td>-1.510422</td>\n",
       "      <td>0.903086</td>\n",
       "      <td>0.105658</td>\n",
       "      <td>0.002387</td>\n",
       "      <td>-1</td>\n",
       "      <td>12.354229</td>\n",
       "      <td>24.358438</td>\n",
       "      <td>...</td>\n",
       "      <td>15.551119</td>\n",
       "      <td>0.604312</td>\n",
       "      <td>69.413300</td>\n",
       "      <td>125.645340</td>\n",
       "      <td>112.214600</td>\n",
       "      <td>32.965946</td>\n",
       "      <td>-1.899416</td>\n",
       "      <td>False</td>\n",
       "      <td>1</td>\n",
       "      <td>0.402044</td>\n",
       "    </tr>\n",
       "    <tr>\n",
       "      <th>36865</th>\n",
       "      <td>2</td>\n",
       "      <td>10</td>\n",
       "      <td>18.766745</td>\n",
       "      <td>1.361107</td>\n",
       "      <td>0.210562</td>\n",
       "      <td>0.105658</td>\n",
       "      <td>0.000000</td>\n",
       "      <td>-1</td>\n",
       "      <td>48.865803</td>\n",
       "      <td>62.351433</td>\n",
       "      <td>...</td>\n",
       "      <td>32.881844</td>\n",
       "      <td>-2.567916</td>\n",
       "      <td>156.720016</td>\n",
       "      <td>78.522247</td>\n",
       "      <td>162.567856</td>\n",
       "      <td>19.321720</td>\n",
       "      <td>-1.897376</td>\n",
       "      <td>False</td>\n",
       "      <td>1</td>\n",
       "      <td>0.402044</td>\n",
       "    </tr>\n",
       "  </tbody>\n",
       "</table>\n",
       "<p>36866 rows × 37 columns</p>\n",
       "</div>"
      ],
      "text/plain": [
       "       njets  npv        pt_1     eta_1     phi_1       m_1     iso_1  q_1  \\\n",
       "entry                                                                        \n",
       "0          3   13   28.667351  1.562036 -0.842856  0.105658  0.000000    1   \n",
       "1          2   17   76.649849 -0.184059  1.773671  0.105658  0.009272    1   \n",
       "2          5   20   40.108189  1.004245  2.685524  0.105658  0.031531    1   \n",
       "3          2   18   17.215254 -1.608321  0.190183  0.105658  0.042270   -1   \n",
       "4          6   21   46.573315 -0.950096  2.138021  0.105658  0.057344    1   \n",
       "...      ...  ...         ...       ...       ...       ...       ...  ...   \n",
       "36861      6   22   23.628647  1.839439  1.272713  0.105658  0.132470    1   \n",
       "36862      1   13   18.357796  1.270961  2.813488  0.105658  0.027570   -1   \n",
       "36863      2   17   52.057220 -0.379592  0.721136  0.105658  0.009719    1   \n",
       "36864      2   12  110.768692 -1.510422  0.903086  0.105658  0.002387   -1   \n",
       "36865      2   10   18.766745  1.361107  0.210562  0.105658  0.000000   -1   \n",
       "\n",
       "            mt_1       pt_2  ...      pt_met   phi_met       m_vis  \\\n",
       "entry                        ...                                     \n",
       "0      80.909939  36.405731  ...   60.111469  2.751014   26.211727   \n",
       "1      22.561057  28.185574  ...   53.055363  1.418015   48.864986   \n",
       "2      17.254477  20.238079  ...    2.037169 -1.062208   60.555405   \n",
       "3      42.682263  26.714300  ...   65.352066 -1.189085   45.746376   \n",
       "4      59.807889  47.802555  ...   69.078201  1.027376   96.430687   \n",
       "...          ...        ...  ...         ...       ...         ...   \n",
       "36861  81.719287  20.719923  ...  133.357239  2.903198   12.645602   \n",
       "36862  64.936889  53.670872  ...   96.485214  1.051181   90.164818   \n",
       "36863  39.442700  66.956032  ...   65.936806  0.034499  116.174332   \n",
       "36864  12.354229  24.358438  ...   15.551119  0.604312   69.413300   \n",
       "36865  48.865803  62.351433  ...   32.881844 -2.567916  156.720016   \n",
       "\n",
       "           pt_vis         mjj        ptjj       jdeta  gen_match  run  \\\n",
       "entry                                                                   \n",
       "0       60.862858  130.860291   38.344780    1.321880      False    1   \n",
       "1      102.870186  471.998077  151.001190   -2.423236      False    1   \n",
       "2       23.285250  207.719421   24.611734    0.925452       True    1   \n",
       "3       36.980255  139.373489   82.207253   -1.183147      False    1   \n",
       "4       94.001167  257.197113  101.881531    2.388012      False    1   \n",
       "...           ...         ...         ...         ...        ...  ...   \n",
       "36861   43.711403  329.632202   46.506054    2.945638      False    1   \n",
       "36862   46.692497 -999.000000 -999.000000 -999.000000      False    1   \n",
       "36863   65.213791   88.366661   86.378456    0.057873      False    1   \n",
       "36864  125.645340  112.214600   32.965946   -1.899416      False    1   \n",
       "36865   78.522247  162.567856   19.321720   -1.897376      False    1   \n",
       "\n",
       "         weight  \n",
       "entry            \n",
       "0      0.402044  \n",
       "1      0.402044  \n",
       "2      0.402044  \n",
       "3      0.402044  \n",
       "4      0.402044  \n",
       "...         ...  \n",
       "36861  0.402044  \n",
       "36862  0.402044  \n",
       "36863  0.402044  \n",
       "36864  0.402044  \n",
       "36865  0.402044  \n",
       "\n",
       "[36866 rows x 37 columns]"
      ]
     },
     "execution_count": 6,
     "metadata": {},
     "output_type": "execute_result"
    }
   ],
   "source": [
    "data[\"TTbar\"]"
   ]
  },
  {
   "cell_type": "markdown",
   "metadata": {},
   "source": [
    "Let's pick just two features - $M_{T,1}$ and $M_{T,2}$ at first."
   ]
  },
  {
   "cell_type": "code",
   "execution_count": 7,
   "metadata": {},
   "outputs": [],
   "source": [
    "keys = [\n",
    "    \"mt_1\",\n",
    "    \"mt_2\"\n",
    "]"
   ]
  },
  {
   "cell_type": "code",
   "execution_count": 8,
   "metadata": {},
   "outputs": [
    {
     "data": {
      "text/html": [
       "<div>\n",
       "<style scoped>\n",
       "    .dataframe tbody tr th:only-of-type {\n",
       "        vertical-align: middle;\n",
       "    }\n",
       "\n",
       "    .dataframe tbody tr th {\n",
       "        vertical-align: top;\n",
       "    }\n",
       "\n",
       "    .dataframe thead th {\n",
       "        text-align: right;\n",
       "    }\n",
       "</style>\n",
       "<table border=\"1\" class=\"dataframe\">\n",
       "  <thead>\n",
       "    <tr style=\"text-align: right;\">\n",
       "      <th></th>\n",
       "      <th>mt_1</th>\n",
       "      <th>mt_2</th>\n",
       "    </tr>\n",
       "    <tr>\n",
       "      <th>entry</th>\n",
       "      <th></th>\n",
       "      <th></th>\n",
       "    </tr>\n",
       "  </thead>\n",
       "  <tbody>\n",
       "    <tr>\n",
       "      <th>0</th>\n",
       "      <td>80.909939</td>\n",
       "      <td>92.667939</td>\n",
       "    </tr>\n",
       "    <tr>\n",
       "      <th>1</th>\n",
       "      <td>22.561057</td>\n",
       "      <td>3.189914</td>\n",
       "    </tr>\n",
       "    <tr>\n",
       "      <th>2</th>\n",
       "      <td>17.254477</td>\n",
       "      <td>1.133351</td>\n",
       "    </tr>\n",
       "    <tr>\n",
       "      <th>3</th>\n",
       "      <td>42.682263</td>\n",
       "      <td>79.947394</td>\n",
       "    </tr>\n",
       "    <tr>\n",
       "      <th>4</th>\n",
       "      <td>59.807889</td>\n",
       "      <td>69.045794</td>\n",
       "    </tr>\n",
       "    <tr>\n",
       "      <th>...</th>\n",
       "      <td>...</td>\n",
       "      <td>...</td>\n",
       "    </tr>\n",
       "    <tr>\n",
       "      <th>36861</th>\n",
       "      <td>81.719287</td>\n",
       "      <td>63.217953</td>\n",
       "    </tr>\n",
       "    <tr>\n",
       "      <th>36862</th>\n",
       "      <td>64.936889</td>\n",
       "      <td>134.028582</td>\n",
       "    </tr>\n",
       "    <tr>\n",
       "      <th>36863</th>\n",
       "      <td>39.442700</td>\n",
       "      <td>81.453346</td>\n",
       "    </tr>\n",
       "    <tr>\n",
       "      <th>36864</th>\n",
       "      <td>12.354229</td>\n",
       "      <td>23.510650</td>\n",
       "    </tr>\n",
       "    <tr>\n",
       "      <th>36865</th>\n",
       "      <td>48.865803</td>\n",
       "      <td>89.901439</td>\n",
       "    </tr>\n",
       "  </tbody>\n",
       "</table>\n",
       "<p>36866 rows × 2 columns</p>\n",
       "</div>"
      ],
      "text/plain": [
       "            mt_1        mt_2\n",
       "entry                       \n",
       "0      80.909939   92.667939\n",
       "1      22.561057    3.189914\n",
       "2      17.254477    1.133351\n",
       "3      42.682263   79.947394\n",
       "4      59.807889   69.045794\n",
       "...          ...         ...\n",
       "36861  81.719287   63.217953\n",
       "36862  64.936889  134.028582\n",
       "36863  39.442700   81.453346\n",
       "36864  12.354229   23.510650\n",
       "36865  48.865803   89.901439\n",
       "\n",
       "[36866 rows x 2 columns]"
      ]
     },
     "execution_count": 8,
     "metadata": {},
     "output_type": "execute_result"
    }
   ],
   "source": [
    "data[\"TTbar\"][keys]"
   ]
  },
  {
   "cell_type": "code",
   "execution_count": 9,
   "metadata": {},
   "outputs": [
    {
     "data": {
      "text/plain": [
       "(torch.Size([36866, 2]), torch.Size([36866, 1]))"
      ]
     },
     "execution_count": 9,
     "metadata": {},
     "output_type": "execute_result"
    }
   ],
   "source": [
    "X = torch.Tensor(data['TTbar'][keys].values) # feature matrix (Nevents, Nfeatures) = (~36k, 2)\n",
    "y = torch.Tensor(np.zeros((len(X), 1), dtype=np.float32)) # target matrix/vector (Nevents, 1) = (~36k, 1)\n",
    "ds_ttbar = TensorDataset(X,y)\n",
    "X.shape, y.shape"
   ]
  },
  {
   "cell_type": "code",
   "execution_count": 10,
   "metadata": {},
   "outputs": [
    {
     "data": {
      "text/plain": [
       "tensor([[80.9099, 92.6679],\n",
       "        [22.5611,  3.1899],\n",
       "        [17.2545,  1.1334],\n",
       "        ...,\n",
       "        [39.4427, 81.4533],\n",
       "        [12.3542, 23.5107],\n",
       "        [48.8658, 89.9014]])"
      ]
     },
     "execution_count": 10,
     "metadata": {},
     "output_type": "execute_result"
    }
   ],
   "source": [
    "X"
   ]
  },
  {
   "cell_type": "code",
   "execution_count": 11,
   "metadata": {},
   "outputs": [
    {
     "data": {
      "text/plain": [
       "tensor([[0.],\n",
       "        [0.],\n",
       "        [0.],\n",
       "        ...,\n",
       "        [0.],\n",
       "        [0.],\n",
       "        [0.]])"
      ]
     },
     "execution_count": 11,
     "metadata": {},
     "output_type": "execute_result"
    }
   ],
   "source": [
    "y"
   ]
  },
  {
   "cell_type": "code",
   "execution_count": 12,
   "metadata": {},
   "outputs": [
    {
     "data": {
      "text/plain": [
       "(torch.Size([8085, 2]), torch.Size([8085, 1]))"
      ]
     },
     "execution_count": 12,
     "metadata": {},
     "output_type": "execute_result"
    }
   ],
   "source": [
    "X_ggh = torch.Tensor(data['GluGluToHToTauTau'][keys].values) \n",
    "y_ggh = torch.Tensor(np.ones((len(X_ggh), 1), dtype=np.float32)) \n",
    "ds_ggh = TensorDataset(X_ggh,y_ggh)\n",
    "X_ggh.shape, y_ggh.shape"
   ]
  },
  {
   "cell_type": "code",
   "execution_count": 13,
   "metadata": {},
   "outputs": [
    {
     "data": {
      "text/plain": [
       "tensor([[ 12.2097, 103.8012],\n",
       "        [ 30.5824,  60.9333],\n",
       "        [ 52.0285,  27.2350],\n",
       "        ...,\n",
       "        [  3.6372, 115.7324],\n",
       "        [  5.8181,  69.7466],\n",
       "        [ 53.8415,   6.1458]])"
      ]
     },
     "execution_count": 13,
     "metadata": {},
     "output_type": "execute_result"
    }
   ],
   "source": [
    "X_ggh"
   ]
  },
  {
   "cell_type": "code",
   "execution_count": 14,
   "metadata": {},
   "outputs": [
    {
     "data": {
      "text/plain": [
       "tensor([[1.],\n",
       "        [1.],\n",
       "        [1.],\n",
       "        ...,\n",
       "        [1.],\n",
       "        [1.],\n",
       "        [1.]])"
      ]
     },
     "execution_count": 14,
     "metadata": {},
     "output_type": "execute_result"
    }
   ],
   "source": [
    "y_ggh"
   ]
  },
  {
   "cell_type": "code",
   "execution_count": 15,
   "metadata": {},
   "outputs": [
    {
     "name": "stdout",
     "output_type": "stream",
     "text": [
      "36866 8085\n"
     ]
    }
   ],
   "source": [
    "print(  len(ds_ttbar),\n",
    "        len(ds_ggh) )"
   ]
  },
  {
   "cell_type": "code",
   "execution_count": null,
   "metadata": {},
   "outputs": [],
   "source": []
  },
  {
   "cell_type": "code",
   "execution_count": 16,
   "metadata": {},
   "outputs": [
    {
     "name": "stdout",
     "output_type": "stream",
     "text": [
      "Full dataset 44951\n"
     ]
    }
   ],
   "source": [
    "full_dataset = torch.utils.data.ConcatDataset([ds_ttbar, ds_ggh]) # paneme 2 dataseti yksteisega kokku\n",
    "print('Full dataset', len(full_dataset))"
   ]
  },
  {
   "cell_type": "code",
   "execution_count": 17,
   "metadata": {},
   "outputs": [
    {
     "data": {
      "text/plain": [
       "array([ 6826, 35241, 10141, ..., 15388, 44212, 25008])"
      ]
     },
     "execution_count": 17,
     "metadata": {},
     "output_type": "execute_result"
    }
   ],
   "source": [
    "Nev = len(full_dataset)\n",
    "Nev_half = int(Nev/2)\n",
    "\n",
    "random_order = np.random.permutation(range(Nev))\n",
    "random_order"
   ]
  },
  {
   "cell_type": "code",
   "execution_count": 18,
   "metadata": {},
   "outputs": [],
   "source": [
    "train_indices = random_order[:Nev_half]\n",
    "test_indices = random_order[Nev_half:]"
   ]
  },
  {
   "cell_type": "code",
   "execution_count": 19,
   "metadata": {},
   "outputs": [
    {
     "name": "stdout",
     "output_type": "stream",
     "text": [
      "22475 22476\n"
     ]
    }
   ],
   "source": [
    "train_ds = torch.utils.data.dataset.Subset(full_dataset, train_indices)\n",
    "test_ds = torch.utils.data.dataset.Subset(full_dataset, test_indices)\n",
    "print(len(train_ds), len(test_ds))"
   ]
  },
  {
   "cell_type": "code",
   "execution_count": 20,
   "metadata": {},
   "outputs": [],
   "source": [
    "train_loader = DataLoader(train_ds, batch_size=32, shuffle=True)    # objekt kust saab kysida juppe\n",
    "test_loader = DataLoader(test_ds, batch_size=32, shuffle=True)"
   ]
  },
  {
   "cell_type": "code",
   "execution_count": 21,
   "metadata": {},
   "outputs": [
    {
     "data": {
      "text/plain": [
       "\"plt.figure(figsize=(5,5))\\n\\nidx_mt_1 = keys.index('mt_1')\\nidx_mt_2 = keys.index('mt_2')\\nplt.scatter(ds_ttbar.tensors[0][:1000], ds_ttbar.tensors)\""
      ]
     },
     "execution_count": 21,
     "metadata": {},
     "output_type": "execute_result"
    }
   ],
   "source": [
    "\"\"\"plt.figure(figsize=(5,5))\n",
    "\n",
    "idx_mt_1 = keys.index('mt_1')\n",
    "idx_mt_2 = keys.index('mt_2')\n",
    "plt.scatter(ds_ttbar.tensors[0][:1000], ds_ttbar.tensors)\"\"\""
   ]
  },
  {
   "cell_type": "code",
   "execution_count": 22,
   "metadata": {},
   "outputs": [],
   "source": [
    "import torch.nn as nn\n",
    "import torch.nn.functional as F\n",
    "\n",
    "class Net(nn.Module):               # In a nutshell, genereerib meie narvivorgu\n",
    "    def __init__(self, input_dim):\n",
    "        super().__init__()\n",
    "\n",
    "        hidden_dim = 256    # hyperparameeter\n",
    "\n",
    "        self.lin1 = nn.Linear(input_dim, hidden_dim)\n",
    "        self.lin2 = nn.Linear(hidden_dim, 1)\n",
    "        self.act = torch.nn.ELU()\n",
    "\n",
    "    def forward(self, x):\n",
    "        #x: (32, 2) matrix\n",
    "        x = self.act(self.lin1(x))\n",
    "\n",
    "        #x: (32, 256) matrix\n",
    "        x = self.act(self.lin2(x))\n",
    "\n",
    "        #: (32, 1) matrix\n",
    "        x = torch.sigmoid(x)    # olemas ka muid nagu RELU\n",
    "        return x\n",
    "\n",
    "net = Net(len(keys))"
   ]
  },
  {
   "cell_type": "code",
   "execution_count": 23,
   "metadata": {},
   "outputs": [
    {
     "data": {
      "text/plain": [
       "tensor([0.9994], grad_fn=<SigmoidBackward0>)"
      ]
     },
     "execution_count": 23,
     "metadata": {},
     "output_type": "execute_result"
    }
   ],
   "source": [
    "x = torch.Tensor([0.1, 100.0])\n",
    "net(x) # grad_fn tahendab tuletist"
   ]
  },
  {
   "cell_type": "code",
   "execution_count": 24,
   "metadata": {},
   "outputs": [
    {
     "data": {
      "text/plain": [
       "torch.Size([256])"
      ]
     },
     "execution_count": 24,
     "metadata": {},
     "output_type": "execute_result"
    }
   ],
   "source": [
    "net.lin1.bias.shape"
   ]
  },
  {
   "cell_type": "code",
   "execution_count": 25,
   "metadata": {},
   "outputs": [
    {
     "data": {
      "text/plain": [
       "torch.Size([256, 2])"
      ]
     },
     "execution_count": 25,
     "metadata": {},
     "output_type": "execute_result"
    }
   ],
   "source": [
    "net.lin1.weight.shape"
   ]
  },
  {
   "cell_type": "code",
   "execution_count": 26,
   "metadata": {},
   "outputs": [
    {
     "data": {
      "text/plain": [
       "Parameter containing:\n",
       "tensor([ 0.4832,  0.2637, -0.6186,  0.4827,  0.6569, -0.0224,  0.0982, -0.3689,\n",
       "         0.0437, -0.7041, -0.2698, -0.1723,  0.5004,  0.4931,  0.3295,  0.0592,\n",
       "        -0.5680, -0.0038,  0.7052, -0.3907, -0.1405,  0.3298, -0.1729,  0.3494,\n",
       "        -0.4882,  0.4322, -0.3957, -0.2203,  0.1047, -0.6104, -0.6948, -0.6886,\n",
       "        -0.0172, -0.2346, -0.5204, -0.4148,  0.3773,  0.6938,  0.5141,  0.0929,\n",
       "        -0.4924, -0.5011,  0.3028,  0.6066, -0.4831, -0.5179,  0.1110,  0.0307,\n",
       "        -0.1989, -0.6581,  0.2604, -0.0928,  0.2618, -0.0423,  0.0030,  0.6863,\n",
       "         0.3376,  0.4333, -0.3000,  0.1829,  0.4009, -0.6369, -0.5683,  0.1740,\n",
       "        -0.4591, -0.1812,  0.5801, -0.4648,  0.3322,  0.0682, -0.6966, -0.5505,\n",
       "         0.0860, -0.1992,  0.2590,  0.5185,  0.6472,  0.2434,  0.5042,  0.5625,\n",
       "        -0.3994,  0.2593,  0.6611, -0.2229,  0.2637,  0.5855, -0.3678,  0.0513,\n",
       "        -0.0441, -0.2807, -0.3427, -0.4298,  0.3120,  0.3610,  0.0729, -0.2368,\n",
       "         0.5008, -0.2161, -0.4649,  0.5104,  0.6506,  0.6275, -0.5011, -0.4459,\n",
       "        -0.5408,  0.0876,  0.3217, -0.0842,  0.0708, -0.6484,  0.3586, -0.5362,\n",
       "        -0.5573, -0.6690, -0.4211,  0.5760, -0.0655,  0.3914,  0.3260,  0.3101,\n",
       "        -0.3567, -0.6321, -0.6107, -0.6681,  0.0762,  0.5897,  0.5290, -0.3787,\n",
       "         0.3210, -0.2052, -0.1318,  0.5786,  0.6607,  0.6645, -0.2069, -0.5353,\n",
       "        -0.3126,  0.2937,  0.4456,  0.0676, -0.3846, -0.3959,  0.0657, -0.4247,\n",
       "        -0.4513, -0.1631, -0.6048,  0.6279,  0.3423,  0.3978,  0.1720,  0.1542,\n",
       "         0.5490,  0.3863,  0.3187,  0.1053, -0.2842, -0.3971, -0.1058, -0.5062,\n",
       "        -0.1560,  0.4070, -0.2299, -0.0218, -0.0359,  0.4523,  0.0375,  0.2941,\n",
       "         0.2605,  0.5721,  0.5292,  0.4227, -0.2667,  0.5001, -0.4598,  0.4882,\n",
       "        -0.1481,  0.0118,  0.3274,  0.6687,  0.1322,  0.2019, -0.4784,  0.4535,\n",
       "         0.3666,  0.4600,  0.4797,  0.0174,  0.5051,  0.2845, -0.6141, -0.4917,\n",
       "         0.3094,  0.4214, -0.1088,  0.5168,  0.0322,  0.6080, -0.6934, -0.5984,\n",
       "         0.3311,  0.6420, -0.5451, -0.1095,  0.0982, -0.4301,  0.0878, -0.2960,\n",
       "         0.4296, -0.5282, -0.1577,  0.0770,  0.0077,  0.5774,  0.3815, -0.2678,\n",
       "        -0.2306,  0.2853, -0.6642, -0.6129,  0.1901, -0.6304,  0.1576, -0.4238,\n",
       "         0.0666,  0.4681, -0.5724,  0.6590, -0.2084, -0.3207,  0.5181,  0.5269,\n",
       "         0.1219,  0.4355,  0.2914,  0.1729,  0.5324, -0.4190, -0.0852,  0.3880,\n",
       "         0.3984,  0.1558, -0.4598,  0.0330,  0.4511,  0.6722, -0.6554, -0.1232,\n",
       "         0.1644,  0.3702,  0.5170,  0.1883, -0.6159, -0.0291, -0.4653,  0.2018],\n",
       "       requires_grad=True)"
      ]
     },
     "execution_count": 26,
     "metadata": {},
     "output_type": "execute_result"
    }
   ],
   "source": [
    "net.lin1.bias"
   ]
  },
  {
   "cell_type": "code",
   "execution_count": 27,
   "metadata": {},
   "outputs": [
    {
     "data": {
      "text/plain": [
       "Parameter containing:\n",
       "tensor([[ 0.0756, -0.6790],\n",
       "        [-0.5791,  0.4398],\n",
       "        [-0.3666, -0.2434],\n",
       "        [ 0.5918, -0.0065],\n",
       "        [ 0.0167,  0.3294],\n",
       "        [-0.5601,  0.0992],\n",
       "        [ 0.3406,  0.1554],\n",
       "        [ 0.6454,  0.2965],\n",
       "        [-0.5506,  0.3924],\n",
       "        [ 0.5873, -0.0473],\n",
       "        [ 0.3917, -0.0565],\n",
       "        [-0.2571, -0.6379],\n",
       "        [ 0.6948, -0.0181],\n",
       "        [ 0.0639, -0.2800],\n",
       "        [-0.0735, -0.1471],\n",
       "        [-0.3879,  0.5538],\n",
       "        [-0.2380,  0.4289],\n",
       "        [-0.5699, -0.3321],\n",
       "        [ 0.0902, -0.1607],\n",
       "        [ 0.6027,  0.5499],\n",
       "        [ 0.2500,  0.6647],\n",
       "        [ 0.1218,  0.1878],\n",
       "        [-0.1821, -0.4877],\n",
       "        [ 0.6253, -0.2515],\n",
       "        [-0.6492, -0.2406],\n",
       "        [-0.5857, -0.1969],\n",
       "        [-0.5237, -0.4030],\n",
       "        [ 0.3743, -0.6134],\n",
       "        [-0.3611,  0.5305],\n",
       "        [-0.3604,  0.1930],\n",
       "        [-0.1829,  0.2955],\n",
       "        [-0.2277,  0.1457],\n",
       "        [-0.6414, -0.2960],\n",
       "        [-0.4429,  0.7062],\n",
       "        [ 0.4202, -0.6456],\n",
       "        [-0.3453,  0.2993],\n",
       "        [-0.3108,  0.2698],\n",
       "        [-0.4182, -0.1505],\n",
       "        [ 0.0799,  0.0954],\n",
       "        [ 0.0098, -0.1394],\n",
       "        [-0.2523,  0.0316],\n",
       "        [ 0.1834,  0.0114],\n",
       "        [ 0.7032, -0.6073],\n",
       "        [-0.2286,  0.1671],\n",
       "        [ 0.4707,  0.0950],\n",
       "        [ 0.3627,  0.6819],\n",
       "        [-0.2355, -0.0331],\n",
       "        [ 0.1525, -0.4006],\n",
       "        [-0.5434,  0.2225],\n",
       "        [ 0.4192,  0.6543],\n",
       "        [-0.5894,  0.0635],\n",
       "        [-0.0857, -0.0879],\n",
       "        [ 0.2754,  0.2580],\n",
       "        [ 0.1842, -0.4063],\n",
       "        [-0.3503, -0.0770],\n",
       "        [ 0.2061,  0.5921],\n",
       "        [-0.2187, -0.5193],\n",
       "        [ 0.1750, -0.6695],\n",
       "        [-0.2168, -0.5076],\n",
       "        [ 0.2174,  0.5693],\n",
       "        [ 0.0359, -0.5062],\n",
       "        [-0.1668, -0.0828],\n",
       "        [-0.1054, -0.1820],\n",
       "        [-0.1453, -0.4948],\n",
       "        [ 0.6613, -0.0891],\n",
       "        [-0.3541,  0.2249],\n",
       "        [-0.6725,  0.2130],\n",
       "        [-0.3663,  0.5975],\n",
       "        [-0.0186,  0.6802],\n",
       "        [ 0.5752, -0.1140],\n",
       "        [ 0.0292, -0.3587],\n",
       "        [ 0.3836,  0.5531],\n",
       "        [-0.6037, -0.1035],\n",
       "        [-0.4352,  0.3901],\n",
       "        [-0.3947, -0.4004],\n",
       "        [-0.3575, -0.0606],\n",
       "        [ 0.1243, -0.6702],\n",
       "        [ 0.6928,  0.4596],\n",
       "        [-0.2106,  0.2697],\n",
       "        [ 0.3892,  0.0975],\n",
       "        [ 0.1977, -0.5295],\n",
       "        [-0.1840, -0.5729],\n",
       "        [ 0.2292,  0.0239],\n",
       "        [-0.4222,  0.2290],\n",
       "        [-0.0656, -0.1971],\n",
       "        [-0.5120,  0.4388],\n",
       "        [-0.1259, -0.4764],\n",
       "        [-0.5892,  0.0425],\n",
       "        [ 0.4186, -0.0933],\n",
       "        [-0.1443,  0.2879],\n",
       "        [ 0.3559, -0.5622],\n",
       "        [-0.4191, -0.0823],\n",
       "        [-0.2633,  0.0503],\n",
       "        [-0.6998, -0.1982],\n",
       "        [-0.5372,  0.3705],\n",
       "        [ 0.5443, -0.2661],\n",
       "        [-0.5619,  0.0756],\n",
       "        [-0.2927,  0.3495],\n",
       "        [-0.2025,  0.3961],\n",
       "        [ 0.1750,  0.5974],\n",
       "        [ 0.2836,  0.3689],\n",
       "        [-0.0178, -0.4231],\n",
       "        [ 0.5612,  0.4200],\n",
       "        [ 0.1028, -0.2125],\n",
       "        [ 0.1213, -0.4370],\n",
       "        [ 0.2084, -0.5782],\n",
       "        [-0.1519, -0.6262],\n",
       "        [ 0.0777, -0.1855],\n",
       "        [-0.2982, -0.1324],\n",
       "        [-0.4468, -0.6559],\n",
       "        [ 0.6164, -0.2672],\n",
       "        [-0.3262, -0.6073],\n",
       "        [ 0.3771, -0.4006],\n",
       "        [-0.6931,  0.0180],\n",
       "        [ 0.3931, -0.0782],\n",
       "        [ 0.3798, -0.0127],\n",
       "        [-0.1085,  0.3700],\n",
       "        [-0.2014, -0.4763],\n",
       "        [-0.1208,  0.2328],\n",
       "        [ 0.6811,  0.5283],\n",
       "        [ 0.4425,  0.2056],\n",
       "        [ 0.3004,  0.0529],\n",
       "        [ 0.4925,  0.6560],\n",
       "        [-0.0183, -0.6279],\n",
       "        [-0.0691,  0.4652],\n",
       "        [-0.0130, -0.6977],\n",
       "        [ 0.6507, -0.2481],\n",
       "        [ 0.1376, -0.6717],\n",
       "        [ 0.4323,  0.4818],\n",
       "        [-0.0258, -0.6139],\n",
       "        [-0.5672,  0.4768],\n",
       "        [ 0.4960, -0.0107],\n",
       "        [ 0.2132, -0.2264],\n",
       "        [-0.5694,  0.3090],\n",
       "        [ 0.3483, -0.3646],\n",
       "        [ 0.5335,  0.2837],\n",
       "        [ 0.1396, -0.5782],\n",
       "        [-0.0912,  0.3025],\n",
       "        [-0.6181, -0.4455],\n",
       "        [-0.6613,  0.2317],\n",
       "        [ 0.7011, -0.4512],\n",
       "        [ 0.3611,  0.5044],\n",
       "        [ 0.5413,  0.1211],\n",
       "        [-0.6956, -0.0696],\n",
       "        [ 0.3379,  0.3826],\n",
       "        [ 0.5087,  0.5478],\n",
       "        [ 0.6337, -0.5386],\n",
       "        [ 0.1523, -0.2184],\n",
       "        [ 0.4519,  0.6369],\n",
       "        [ 0.2563,  0.5848],\n",
       "        [-0.2975,  0.1360],\n",
       "        [ 0.4216, -0.0272],\n",
       "        [-0.4788, -0.0835],\n",
       "        [ 0.4069,  0.3293],\n",
       "        [-0.3308,  0.1553],\n",
       "        [ 0.6997,  0.4553],\n",
       "        [ 0.6181, -0.3423],\n",
       "        [-0.0243, -0.1916],\n",
       "        [ 0.6234, -0.4772],\n",
       "        [ 0.4653,  0.1101],\n",
       "        [-0.5251,  0.3038],\n",
       "        [ 0.4880,  0.5480],\n",
       "        [ 0.4449, -0.6678],\n",
       "        [ 0.0419, -0.2478],\n",
       "        [ 0.6275,  0.0728],\n",
       "        [ 0.1947, -0.4908],\n",
       "        [ 0.4507,  0.5303],\n",
       "        [-0.2805, -0.5158],\n",
       "        [ 0.6458, -0.4789],\n",
       "        [ 0.0699,  0.2435],\n",
       "        [ 0.5008,  0.6222],\n",
       "        [-0.5508,  0.0295],\n",
       "        [ 0.1847, -0.5673],\n",
       "        [ 0.2263, -0.3589],\n",
       "        [ 0.0877, -0.2471],\n",
       "        [-0.0911,  0.4310],\n",
       "        [-0.5944, -0.2971],\n",
       "        [-0.0862,  0.1652],\n",
       "        [ 0.3492,  0.6136],\n",
       "        [-0.2265, -0.3344],\n",
       "        [-0.0940,  0.2646],\n",
       "        [-0.3404, -0.6627],\n",
       "        [ 0.3248, -0.5930],\n",
       "        [-0.3254,  0.3800],\n",
       "        [ 0.3702, -0.3045],\n",
       "        [ 0.1904,  0.1975],\n",
       "        [ 0.0881,  0.3298],\n",
       "        [ 0.1772,  0.1447],\n",
       "        [ 0.2209, -0.0829],\n",
       "        [ 0.4301, -0.3523],\n",
       "        [-0.5864,  0.5350],\n",
       "        [-0.3835, -0.1422],\n",
       "        [-0.1870, -0.2447],\n",
       "        [ 0.3206, -0.3401],\n",
       "        [-0.1688,  0.3539],\n",
       "        [-0.6970,  0.4146],\n",
       "        [ 0.0739, -0.4100],\n",
       "        [-0.0200,  0.2159],\n",
       "        [ 0.4941,  0.0019],\n",
       "        [ 0.1580,  0.3404],\n",
       "        [-0.1293,  0.5183],\n",
       "        [ 0.2338,  0.1724],\n",
       "        [-0.3081,  0.5515],\n",
       "        [-0.2450, -0.6496],\n",
       "        [-0.2894,  0.1137],\n",
       "        [ 0.4901,  0.6512],\n",
       "        [ 0.0506,  0.1763],\n",
       "        [-0.4850,  0.0476],\n",
       "        [-0.1804, -0.0790],\n",
       "        [ 0.4471, -0.6011],\n",
       "        [ 0.5576,  0.2650],\n",
       "        [ 0.1226, -0.3573],\n",
       "        [ 0.4675, -0.7017],\n",
       "        [-0.1315,  0.5493],\n",
       "        [ 0.5472, -0.6687],\n",
       "        [ 0.3744,  0.4259],\n",
       "        [ 0.1816, -0.1630],\n",
       "        [-0.6989,  0.0327],\n",
       "        [ 0.4385,  0.0065],\n",
       "        [-0.0534,  0.2598],\n",
       "        [ 0.4061, -0.3246],\n",
       "        [-0.4420, -0.4994],\n",
       "        [-0.0435, -0.0209],\n",
       "        [-0.3081, -0.4410],\n",
       "        [-0.3986,  0.0629],\n",
       "        [ 0.4017, -0.4529],\n",
       "        [ 0.3786,  0.4233],\n",
       "        [-0.0225,  0.5078],\n",
       "        [ 0.5730,  0.3053],\n",
       "        [ 0.2990, -0.1325],\n",
       "        [ 0.5612,  0.4670],\n",
       "        [-0.5213,  0.5335],\n",
       "        [ 0.6772,  0.5449],\n",
       "        [-0.3169,  0.1057],\n",
       "        [ 0.1164,  0.5144],\n",
       "        [ 0.1164,  0.5283],\n",
       "        [ 0.6834, -0.0892],\n",
       "        [-0.6245, -0.0539],\n",
       "        [ 0.6107, -0.4143],\n",
       "        [-0.3880,  0.5136],\n",
       "        [ 0.4023,  0.1322],\n",
       "        [-0.1725, -0.4469],\n",
       "        [ 0.0641, -0.6433],\n",
       "        [-0.5524, -0.3603],\n",
       "        [-0.6209,  0.2141],\n",
       "        [-0.4593, -0.4027],\n",
       "        [-0.0643, -0.5819],\n",
       "        [ 0.4391,  0.6260],\n",
       "        [-0.6795, -0.1234],\n",
       "        [ 0.3823,  0.5041],\n",
       "        [-0.6527,  0.5034],\n",
       "        [ 0.5381,  0.1685],\n",
       "        [ 0.2506, -0.3360],\n",
       "        [ 0.0964,  0.5395],\n",
       "        [ 0.2438,  0.3704],\n",
       "        [-0.2073,  0.4232]], requires_grad=True)"
      ]
     },
     "execution_count": 27,
     "metadata": {},
     "output_type": "execute_result"
    }
   ],
   "source": [
    "net.lin1.weight\n"
   ]
  },
  {
   "cell_type": "code",
   "execution_count": 28,
   "metadata": {},
   "outputs": [
    {
     "data": {
      "text/plain": [
       "'vals_mt = torch.Tensor(np.linspace(0,100,100))'"
      ]
     },
     "execution_count": 28,
     "metadata": {},
     "output_type": "execute_result"
    }
   ],
   "source": [
    "# kuidas \n",
    "\"\"\"vals_mt = torch.Tensor(np.linspace(0,100,100))\"\"\""
   ]
  },
  {
   "cell_type": "code",
   "execution_count": 29,
   "metadata": {},
   "outputs": [],
   "source": [
    "import torch.optim as optim\n",
    "\n",
    "criterion = nn.BCELoss(reduction='none')    # teha valeseid otsuseid on kallis\n",
    "optimizer = optim.Adam(net.parameters(), lr = 0.0001)"
   ]
  },
  {
   "cell_type": "markdown",
   "metadata": {},
   "source": [
    "We want to minimize the loss function across predictions $p\\in[0,1]$ and labels $y\\in\\{0, 1\\}$ by tuning the model parameters:\n",
    "\n",
    "$$\n",
    "L(p,y)\n",
    "$$\n",
    "\n",
    "For classification, binary cross-entropy loss:\n",
    "$$\n",
    "    L(p,y) = - \\left[ y \\cdot \\log p + (1 - y) \\cdot \\log (1 - p) \\right],\n",
    "$$"
   ]
  },
  {
   "cell_type": "code",
   "execution_count": 30,
   "metadata": {},
   "outputs": [
    {
     "data": {
      "text/plain": [
       "tensor([0.0101])"
      ]
     },
     "execution_count": 30,
     "metadata": {},
     "output_type": "execute_result"
    }
   ],
   "source": [
    "criterion(torch.Tensor([0.99]), torch.Tensor([1.0]))"
   ]
  },
  {
   "cell_type": "code",
   "execution_count": 31,
   "metadata": {},
   "outputs": [
    {
     "data": {
      "text/plain": [
       "tensor([4.6052])"
      ]
     },
     "execution_count": 31,
     "metadata": {},
     "output_type": "execute_result"
    }
   ],
   "source": [
    "criterion(torch.Tensor([0.99]), torch.Tensor([0.0]))\n"
   ]
  },
  {
   "cell_type": "code",
   "execution_count": 32,
   "metadata": {},
   "outputs": [
    {
     "data": {
      "text/plain": [
       "tensor([4.6052, 1.2040])"
      ]
     },
     "execution_count": 32,
     "metadata": {},
     "output_type": "execute_result"
    }
   ],
   "source": [
    "#evaluate across multible values at the same time\n",
    "criterion(torch.Tensor([0.99, 0.3]), torch.Tensor([0.0, 1.0]))\n"
   ]
  },
  {
   "cell_type": "code",
   "execution_count": 33,
   "metadata": {},
   "outputs": [
    {
     "name": "stdout",
     "output_type": "stream",
     "text": [
      "torch.Size([32, 2]) torch.Size([32, 1])\n",
      "tensor([[ 17.2938,  15.2590],\n",
      "        [ 87.1398,  58.6336],\n",
      "        [121.8535,  66.7665],\n",
      "        [ 43.7391,  36.1592],\n",
      "        [ 57.3272, 182.3590],\n",
      "        [ 75.4667, 242.7202],\n",
      "        [  3.4457,  17.7163],\n",
      "        [ 84.1804,  64.6910],\n",
      "        [ 63.8956,  59.4630],\n",
      "        [210.5377,  81.9543],\n",
      "        [ 47.1410,  91.9330],\n",
      "        [129.9235,  96.8691],\n",
      "        [ 74.1567,  32.6401],\n",
      "        [108.3990,  97.1530],\n",
      "        [ 68.1274,  28.4063],\n",
      "        [ 87.2468, 106.1255],\n",
      "        [103.1618,  11.8746],\n",
      "        [ 72.2994,   7.5891],\n",
      "        [  3.3243,  45.5888],\n",
      "        [  1.4774,  54.7309],\n",
      "        [ 61.5135,  17.6418],\n",
      "        [ 60.7296,  78.7736],\n",
      "        [ 48.4054, 117.0736],\n",
      "        [ 98.5140,  28.9047],\n",
      "        [144.4447, 123.4635],\n",
      "        [ 34.8008,  95.7341],\n",
      "        [120.2934,  91.7504],\n",
      "        [ 83.0233, 103.1208],\n",
      "        [130.6484, 146.6804],\n",
      "        [ 31.3130,  31.6647],\n",
      "        [ 20.5039,  33.7049],\n",
      "        [ 80.0245,  59.4602]])\n",
      "tensor([[1.],\n",
      "        [0.],\n",
      "        [0.],\n",
      "        [0.],\n",
      "        [0.],\n",
      "        [0.],\n",
      "        [1.],\n",
      "        [0.],\n",
      "        [0.],\n",
      "        [0.],\n",
      "        [0.],\n",
      "        [0.],\n",
      "        [0.],\n",
      "        [0.],\n",
      "        [0.],\n",
      "        [0.],\n",
      "        [0.],\n",
      "        [1.],\n",
      "        [1.],\n",
      "        [1.],\n",
      "        [0.],\n",
      "        [0.],\n",
      "        [0.],\n",
      "        [0.],\n",
      "        [0.],\n",
      "        [0.],\n",
      "        [0.],\n",
      "        [0.],\n",
      "        [0.],\n",
      "        [0.],\n",
      "        [1.],\n",
      "        [0.]])\n"
     ]
    }
   ],
   "source": [
    "for x in train_loader:\n",
    "    print(x[0].shape, x[1].shape)\n",
    "    print(x[0])\n",
    "    print(x[1])\n",
    "    break"
   ]
  },
  {
   "cell_type": "code",
   "execution_count": 34,
   "metadata": {},
   "outputs": [
    {
     "name": "stdout",
     "output_type": "stream",
     "text": [
      "Epoch 0: 10674.01/10369.99\n",
      "Epoch 1: 10438.32/10399.46\n",
      "Epoch 2: 10446.46/10332.84\n",
      "Epoch 3: 10412.91/10314.78\n",
      "Epoch 4: 10410.50/10321.06\n",
      "Epoch 5: 10409.08/10319.64\n",
      "Epoch 6: 10429.74/10725.34\n",
      "Epoch 7: 10392.77/10303.13\n",
      "Epoch 8: 10394.30/10409.58\n",
      "Epoch 9: 10407.26/10408.13\n",
      "Epoch 10: 10404.65/10318.42\n",
      "Epoch 11: 10406.64/10585.87\n",
      "Epoch 12: 10412.78/10411.92\n",
      "Epoch 13: 10405.40/10285.93\n",
      "Epoch 14: 10380.01/10297.73\n",
      "Epoch 15: 10392.66/10331.70\n",
      "Epoch 16: 10352.74/10308.30\n",
      "Epoch 17: 10407.41/10291.79\n",
      "Epoch 18: 10389.82/10298.48\n",
      "Epoch 19: 10372.97/10364.42\n",
      "Epoch 20: 10378.32/10415.71\n",
      "Epoch 21: 10358.64/10257.34\n",
      "Epoch 22: 10347.16/10249.71\n",
      "Epoch 23: 10387.47/10246.27\n",
      "Epoch 24: 10359.41/10307.56\n",
      "Epoch 25: 10348.48/10413.29\n",
      "Epoch 26: 10320.58/10251.77\n",
      "Epoch 27: 10328.85/10244.51\n",
      "Epoch 28: 10328.04/10223.27\n",
      "Epoch 29: 10308.28/10253.78\n",
      "Epoch 30: 10324.84/10283.45\n",
      "Epoch 31: 10298.26/10501.60\n",
      "Epoch 32: 10305.84/10384.33\n",
      "Epoch 33: 10311.55/10251.67\n",
      "Epoch 34: 10312.31/10241.45\n",
      "Epoch 35: 10315.31/10222.26\n",
      "Epoch 36: 10313.14/10287.67\n",
      "Epoch 37: 10295.54/10214.10\n",
      "Epoch 38: 10309.34/10227.81\n",
      "Epoch 39: 10266.98/10222.87\n",
      "Epoch 40: 10260.37/10331.35\n",
      "Epoch 41: 10261.52/10186.24\n",
      "Epoch 42: 10258.88/10366.16\n",
      "Epoch 43: 10276.82/10213.01\n",
      "Epoch 44: 10248.06/10234.77\n",
      "Epoch 45: 10268.60/10598.72\n",
      "Epoch 46: 10268.88/10240.49\n",
      "Epoch 47: 10262.20/10169.90\n",
      "Epoch 48: 10269.24/10163.10\n",
      "Epoch 49: 10254.10/10380.08\n"
     ]
    }
   ],
   "source": [
    "loss_train_vals = []\n",
    "loss_test_vals = []\n",
    "\n",
    "for epoch in range(50):  # loop over the dataset multiple times\n",
    "\n",
    "    loss_train = 0.0\n",
    "    for i, batch_data in enumerate(train_loader, 0):\n",
    "        # get the inputs; data is a list of [inputs, labels]\n",
    "        inputs, labels = batch_data\n",
    "\n",
    "        # zero the parameter gradients\n",
    "        optimizer.zero_grad()\n",
    "\n",
    "        # forward + backward + optimize\n",
    "        outputs = net(inputs)\n",
    "        \n",
    "        loss = criterion(outputs, labels)\n",
    "        loss = torch.sum(loss)\n",
    "        \n",
    "        loss.backward()\n",
    "        optimizer.step()\n",
    "\n",
    "        # print statistics\n",
    "        loss_train += loss.item()\n",
    "    \n",
    "    loss_train_vals.append(loss_train)\n",
    "    \n",
    "    loss_test = 0.0\n",
    "    with torch.no_grad():\n",
    "        for i, batch_data in enumerate(test_loader, 0):\n",
    "            # get the inputs; data is a list of [inputs, labels]\n",
    "            inputs, labels = batch_data\n",
    "\n",
    "            # forward\n",
    "            outputs = net(inputs)\n",
    "\n",
    "            loss = criterion(outputs, labels)\n",
    "            loss = torch.sum(loss)\n",
    "\n",
    "            # print statistics\n",
    "            loss_test += loss.item()\n",
    "    loss_test_vals.append(loss_test)\n",
    "\n",
    "    print(\"Epoch {}: {:.2f}/{:.2f}\".format(epoch, loss_train, loss_test))"
   ]
  },
  {
   "cell_type": "code",
   "execution_count": 35,
   "metadata": {},
   "outputs": [
    {
     "data": {
      "text/plain": [
       "Text(0, 0.5, 'Total loss')"
      ]
     },
     "execution_count": 35,
     "metadata": {},
     "output_type": "execute_result"
    },
    {
     "data": {
      "image/png": "[encoded data removed]",
      "text/plain": [
       "<Figure size 640x480 with 1 Axes>"
      ]
     },
     "metadata": {},
     "output_type": "display_data"
    }
   ],
   "source": [
    "plt.plot(loss_train_vals, label=\"train\")\n",
    "plt.plot(loss_test_vals, label=\"test\")\n",
    "plt.ylim(loss_train_vals[-1]*0.95, loss_train_vals[-1]*1.05)\n",
    "plt.legend()\n",
    "plt.xlabel(\"epoch\")\n",
    "plt.ylabel(\"Total loss\")"
   ]
  },
  {
   "cell_type": "code",
   "execution_count": 36,
   "metadata": {},
   "outputs": [
    {
     "data": {
      "text/plain": [
       "<matplotlib.colorbar.Colorbar at 0x7f3207a89340>"
      ]
     },
     "execution_count": 36,
     "metadata": {},
     "output_type": "execute_result"
    },
    {
     "data": {
      "image/png": "[encoded data removed]",
      "text/plain": [
       "<Figure size 600x500 with 2 Axes>"
      ]
     },
     "metadata": {},
     "output_type": "display_data"
    }
   ],
   "source": [
    "vals_mt = torch.Tensor(np.linspace(0,100,100))\n",
    "\n",
    "grid_x, grid_y = torch.meshgrid(vals_mt, vals_mt, indexing='ij')\n",
    "preds = net(torch.stack([grid_x, grid_y], axis=-1)).detach()[:, :, 0]\n",
    "\n",
    "fig = plt.figure(figsize=(6,5))\n",
    "ax1 = plt.contourf(grid_x.numpy(), grid_y.numpy(), preds.numpy(), cmap=\"hot\")\n",
    "plt.colorbar()"
   ]
  },
  {
   "cell_type": "code",
   "execution_count": null,
   "metadata": {},
   "outputs": [],
   "source": []
  }
 ],
 "metadata": {
  "kernelspec": {
   "display_name": "Python 3.9.15 64-bit",
   "language": "python",
   "name": "python3"
  },
  "language_info": {
   "codemirror_mode": {
    "name": "ipython",
    "version": 3
   },
   "file_extension": ".py",
   "mimetype": "text/x-python",
   "name": "python",
   "nbconvert_exporter": "python",
   "pygments_lexer": "ipython3",
   "version": "3.9.15"
  },
  "orig_nbformat": 4,
  "vscode": {
   "interpreter": {
    "hash": "f9f85f796d01129d0dd105a088854619f454435301f6ffec2fea96ecbd9be4ac"
   }
  }
 },
 "nbformat": 4,
 "nbformat_minor": 2
}
