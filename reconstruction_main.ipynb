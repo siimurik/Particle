{
 "cells": [
  {
   "cell_type": "code",
   "execution_count": 1,
   "id": "ad4f6cde",
   "metadata": {},
   "outputs": [],
   "source": [
    "# Import all the necessary packages\n",
    "#import uproot  # check out the documentation about the basics at https://uproot.readthedocs.io/en/latest/basic.html\n",
    "import os\n",
    "import glob\n",
    "import pandas as pd\n",
    "import matplotlib.pyplot as plt\n",
    "import awkward as ak\n",
    "import datetime as dt\n",
    "import numpy as np\n",
    "import vector\n",
    "import itertools\n",
    "vector.register_awkward()"
   ]
  },
  {
   "cell_type": "code",
   "execution_count": 2,
   "id": "de08fdc6",
   "metadata": {},
   "outputs": [],
   "source": [
    "#path to parquet files\n",
    "DATA_DIR = \".\"\n",
    "PATHS = list(set(glob.glob(os.path.join(DATA_DIR, '*.parquet'))))"
   ]
  },
  {
   "cell_type": "code",
   "execution_count": 3,
   "id": "6ad79d45",
   "metadata": {},
   "outputs": [],
   "source": [
    "#filtering function\n",
    "def createFilter(data,minMu,minEl):\n",
    "    mu_isolation_cut = ak.sum(abs(data.Muon_pfRelIso04_all) < 0.4, axis=1) == minMu\n",
    "    muon_pt_cut = ak.sum(data.Muon_pt > 5, axis=1) ==minMu\n",
    "    muon_eta_cut = ak.sum(abs(data.Muon_eta) < 2.4, axis=1) == minMu\n",
    "    muon_sip_cut = ak.sum(abs(data.Muon_sip3d) < 4, axis=1) == minMu\n",
    "    muon_dxy_cut = ak.sum(abs(data.Muon_dxy) < 0.5, axis=1) == minMu\n",
    "    muon_dz_cut = ak.sum(abs(data.Muon_dz) < 1.0, axis=1) == minMu\n",
    "    mu_cuts = mu_isolation_cut * muon_pt_cut * muon_eta_cut * muon_sip_cut * muon_dxy_cut * muon_dz_cut\n",
    "\n",
    "    el_isolation_cut = ak.sum(abs(data.Electron_pfRelIso03_all) < 0.4, axis=1) == minEl\n",
    "    el_pt_cut = ak.sum(data.Electron_pt > 7, axis=1) ==minEl\n",
    "    el_eta_cut = ak.sum(abs(data.Electron_eta) < 2.5, axis=1) == minEl\n",
    "    el_sip_cut = ak.sum(abs(data.Electron_sip3d) < 4, axis=1) == minEl\n",
    "    el_dxy_cut = ak.sum(abs(data.Electron_dxy) < 0.5, axis=1) == minEl\n",
    "    el_dz_cut = ak.sum(abs(data.Electron_dz) < 1.0, axis=1) == minEl\n",
    "    el_cuts = el_isolation_cut * el_pt_cut * el_eta_cut * el_sip_cut * el_dxy_cut * el_dz_cut\n",
    "\n",
    "    return mu_cuts * el_cuts"
   ]
  },
  {
   "cell_type": "code",
   "execution_count": 4,
   "id": "789fad71",
   "metadata": {},
   "outputs": [
    {
     "name": "stdout",
     "output_type": "stream",
     "text": [
      "Higgs to ZZ to 4 muons sample size: 8723\n",
      "Higgs to ZZ to 2 electrons and 2 muons sample size: 12730\n",
      "Higgs to ZZ to 4 electrons sample size: 5706\n",
      "./Run2012C_DoubleElectron.parquet\n",
      "Higgs to ZZ to 4 muons sample size: 8723\n",
      "Higgs to ZZ to 2 electrons and 2 muons sample size: 12730\n",
      "Higgs to ZZ to 4 electrons sample size: 5706\n",
      "./skim.parquet\n",
      "Higgs to ZZ to 4 muons sample size: 8723\n",
      "Higgs to ZZ to 2 electrons and 2 muons sample size: 12730\n",
      "Higgs to ZZ to 4 electrons sample size: 5706\n",
      "./ZZTo2e2mu.parquet\n",
      "Higgs to ZZ to 4 muons sample size: 8723\n",
      "Higgs to ZZ to 2 electrons and 2 muons sample size: 12730\n",
      "Higgs to ZZ to 4 electrons sample size: 5706\n",
      "./ZZTo4mu.parquet\n",
      "Higgs to ZZ to 4 muons sample size: 8723\n",
      "Higgs to ZZ to 2 electrons and 2 muons sample size: 12730\n",
      "Higgs to ZZ to 4 electrons sample size: 5706\n",
      "./SMHiggsToZZTo4L.parquet\n",
      "Higgs to ZZ to 4 muons sample size: 8723\n",
      "Higgs to ZZ to 2 electrons and 2 muons sample size: 12730\n",
      "Higgs to ZZ to 4 electrons sample size: 5706\n",
      "./Run2012B_DoubleElectron.parquet\n",
      "Higgs to ZZ to 4 muons sample size: 8723\n",
      "Higgs to ZZ to 2 electrons and 2 muons sample size: 12730\n",
      "Higgs to ZZ to 4 electrons sample size: 5706\n",
      "./Run2012C_DoubleMuParked.parquet\n",
      "Higgs to ZZ to 4 muons sample size: 8723\n",
      "Higgs to ZZ to 2 electrons and 2 muons sample size: 12730\n",
      "Higgs to ZZ to 4 electrons sample size: 5706\n",
      "./ZZTo4e.parquet\n",
      "Higgs to ZZ to 4 muons sample size: 8723\n",
      "Higgs to ZZ to 2 electrons and 2 muons sample size: 12730\n",
      "Higgs to ZZ to 4 electrons sample size: 5706\n",
      "./Run2012B_DoubleMuParked.parquet\n",
      "0:00:04.418663\n"
     ]
    }
   ],
   "source": [
    "#this whole thing should be in a loop\n",
    "inf = [i for i in PATHS if 'SMH' in i][0]\n",
    "data = ak.from_parquet(inf)\n",
    "\n",
    "start=dt.datetime.now()\n",
    "for inf in PATHS:\n",
    "\n",
    "    #reading the files\n",
    "    #data=ak.from_parquet(inf)\n",
    "\n",
    "    # E and mu impact parameters and their significance\n",
    "    data['Muon_ip3d']=np.sqrt(data.Muon_dxy*data.Muon_dxy + data.Muon_dz*data.Muon_dz)\n",
    "    data['Muon_sip3d']=data.Muon_ip3d/np.sqrt(data.Muon_dxyErr*data.Muon_dxyErr + data.Muon_dzErr*data.Muon_dzErr)\n",
    "    data['Electron_ip3d']=np.sqrt(data.Electron_dxy*data.Electron_dxy + data.Electron_dz*data.Electron_dz)\n",
    "    data['Electron_sip3d']=data.Electron_ip3d/np.sqrt(data.Electron_dxyErr*data.Electron_dxyErr + data.Electron_dzErr*data.Electron_dzErr)\n",
    "\n",
    "    #using the filtering function\n",
    "    fourMu    = createFilter(data,4,0)\n",
    "    twoMuTwoE = createFilter(data,2,2)\n",
    "    fourEl    = createFilter(data,0,4)\n",
    "\n",
    "    # .to_list is necessary bc it will include\n",
    "    # the necessary data with specifying strings \n",
    "    # attached. Otherwise hzz...[0] won't work\n",
    "    # correctly. WARNING: Runs over 4 min!!!\n",
    "    # Example: 'PV_x': 0.2441709190607071\n",
    "    hzz4mu   = data[fourMu]#.to_list()\n",
    "    hzz2e2mu = data[twoMuTwoE]#.to_list()\n",
    "    hzz4e    = data[fourEl]#.to_list()\n",
    "\n",
    "    # Sample sizes:\n",
    "    print(\"Higgs to ZZ to 4 muons sample size: %i\" % len(hzz4mu))\n",
    "    print(\"Higgs to ZZ to 2 electrons and 2 muons sample size: %i\" % len(hzz2e2mu))\n",
    "    print(\"Higgs to ZZ to 4 electrons sample size: %i\" % len(hzz4e))\n",
    "    print(inf)\n",
    "stop=dt.datetime.now()\n",
    "print(stop-start)"
   ]
  },
  {
   "cell_type": "code",
   "execution_count": 5,
   "id": "aea4af29",
   "metadata": {},
   "outputs": [
    {
     "data": {
      "text/plain": [
       "<Record ... Electron_sip3d: []} type='{\"run\": int32, \"luminosityBlock\": uint32, ...'>"
      ]
     },
     "execution_count": 5,
     "metadata": {},
     "output_type": "execute_result"
    }
   ],
   "source": [
    "hzz4mu[0]"
   ]
  },
  {
   "cell_type": "markdown",
   "id": "ae359208",
   "metadata": {},
   "source": [
    "### Only Muon interactions"
   ]
  },
  {
   "cell_type": "code",
   "execution_count": 6,
   "id": "d3fa852b",
   "metadata": {},
   "outputs": [
    {
     "name": "stdout",
     "output_type": "stream",
     "text": [
      "0:00:47.879222\n"
     ]
    }
   ],
   "source": [
    "start=dt.datetime.now()\n",
    "hmass = []\n",
    "z1mass= []\n",
    "z2mass= []\n",
    "count = 0\n",
    "for e in hzz4mu:\n",
    "    nMuon = e['nMuon'] # How many compnents in muon vector\n",
    "    mus = []\n",
    "    for i in range(nMuon):\n",
    "        mus.append(vector.obj(pt=e['Muon_pt'][i],eta=e['Muon_eta'][i],\n",
    "                              phi=e['Muon_phi'][i],mass=e['Muon_mass'][i])) # list of vectors\n",
    "        \n",
    "    combos = itertools.combinations(range(nMuon),2) # find combinations like (0, 1), (0, 2),...,(2, 3)\n",
    "    Z_mu_can = []\n",
    "\n",
    "    for j in combos:                                # in total there are 6 possible combinations bc of 4 comp\n",
    "        m1 = mus[j[0]] # 1st mass of the combination\n",
    "        m2 = mus[j[1]] # 2nd mass of the combination\n",
    "        z = m1 + m2              # sum of the muon masses \n",
    "        ch1 = e['Muon_charge'][j[0]] # 1st charge of the combination\n",
    "        ch2 = e['Muon_charge'][j[1]] # 2nd charge of the combination\n",
    "        if not (ch1 + ch2): # '+/-' and '+/-' not possible, only '+' and '-'\n",
    "            count = count + 1\n",
    "            Z_mu_can.append([z.mass,j[0],j[1]]) # find leptons with different charge combinations \n",
    "    #print(Z_mu_can)                     # and write into a list named 'massMuon'\n",
    "    zbest = 0\n",
    "    best = 9999 #sufficiently large that is bigger than 91\n",
    "    zother=[]\n",
    "    for z_vec in Z_mu_can:\n",
    "        d = abs(z_vec[0] - 91.)\n",
    "        if d < best:\n",
    "            zbest = z_vec   # chooses best Z1 [93.66, 2, 3]\n",
    "            best = d        # last two indecies give a hint about z2 values\n",
    "\n",
    "    if not sum(e['Muon_charge']): # meaning charge vector needs to be eq. to 0\n",
    "        idx = [i for i in range(nMuon) if i not in zbest[1:]]    # if z1 [2,3] then z2 [0,1]\n",
    "        zother = [i for i in Z_mu_can if idx[0]==i[1] and idx[1]==i[2]][0]\n",
    "        hmass.append((mus[0] + mus[1] + mus[2] + mus[3]).mass) #Higgs # for elmu (mus[0] + mus[1] + mel[0] + mus[1]).mass\n",
    "        z1mass.append(zbest[0])     # mus[0] + mus[1] but needs a condition that it is closer to 91 GeV\n",
    "        z2mass.append(zother[0])    # el[0] + el[1] but vice versa.\n",
    "    #print(zbest,'\\t', zother)\n",
    "\n",
    "\n",
    "\n",
    "stop=dt.datetime.now()\n",
    "#print(count)      # how many components are in massMuon\n",
    "#print(zbest)\n",
    "print(stop-start)\n"
   ]
  },
  {
   "cell_type": "code",
   "execution_count": 7,
   "id": "2d848fe3",
   "metadata": {},
   "outputs": [
    {
     "data": {
      "text/html": [
       "<div>\n",
       "<style scoped>\n",
       "    .dataframe tbody tr th:only-of-type {\n",
       "        vertical-align: middle;\n",
       "    }\n",
       "\n",
       "    .dataframe tbody tr th {\n",
       "        vertical-align: top;\n",
       "    }\n",
       "\n",
       "    .dataframe thead th {\n",
       "        text-align: right;\n",
       "    }\n",
       "</style>\n",
       "<table border=\"1\" class=\"dataframe\">\n",
       "  <thead>\n",
       "    <tr style=\"text-align: right;\">\n",
       "      <th></th>\n",
       "      <th>higgs</th>\n",
       "      <th>Z1</th>\n",
       "      <th>Z2</th>\n",
       "      <th>weight</th>\n",
       "    </tr>\n",
       "  </thead>\n",
       "  <tbody>\n",
       "    <tr>\n",
       "      <th>0</th>\n",
       "      <td>125.123040</td>\n",
       "      <td>93.663402</td>\n",
       "      <td>7.725514</td>\n",
       "      <td>0.000824</td>\n",
       "    </tr>\n",
       "    <tr>\n",
       "      <th>1</th>\n",
       "      <td>123.906535</td>\n",
       "      <td>58.027074</td>\n",
       "      <td>54.522374</td>\n",
       "      <td>0.000824</td>\n",
       "    </tr>\n",
       "    <tr>\n",
       "      <th>2</th>\n",
       "      <td>125.260717</td>\n",
       "      <td>77.300505</td>\n",
       "      <td>37.468496</td>\n",
       "      <td>0.000824</td>\n",
       "    </tr>\n",
       "    <tr>\n",
       "      <th>3</th>\n",
       "      <td>124.775946</td>\n",
       "      <td>76.583284</td>\n",
       "      <td>39.096827</td>\n",
       "      <td>0.000824</td>\n",
       "    </tr>\n",
       "    <tr>\n",
       "      <th>4</th>\n",
       "      <td>124.205550</td>\n",
       "      <td>64.765260</td>\n",
       "      <td>16.999576</td>\n",
       "      <td>0.000824</td>\n",
       "    </tr>\n",
       "  </tbody>\n",
       "</table>\n",
       "</div>"
      ],
      "text/plain": [
       "        higgs         Z1         Z2    weight\n",
       "0  125.123040  93.663402   7.725514  0.000824\n",
       "1  123.906535  58.027074  54.522374  0.000824\n",
       "2  125.260717  77.300505  37.468496  0.000824\n",
       "3  124.775946  76.583284  39.096827  0.000824\n",
       "4  124.205550  64.765260  16.999576  0.000824"
      ]
     },
     "execution_count": 7,
     "metadata": {},
     "output_type": "execute_result"
    }
   ],
   "source": [
    "sigma = 106.7 #fb, calculated by theorists\n",
    "L     = 11.58 #fb^-1 luminocity, determined by the machine\n",
    "N_ent = 1499064\n",
    "w = sigma*L/N_ent\n",
    "df_mu = pd.DataFrame({\"higgs\":hmass, \"Z1\":z1mass, \"Z2\":z2mass, \"weight\":w})\n",
    "df_mu.head()\n"
   ]
  },
  {
   "cell_type": "code",
   "execution_count": 8,
   "id": "f76ae10f",
   "metadata": {},
   "outputs": [],
   "source": [
    "#e.to_list()"
   ]
  },
  {
   "cell_type": "markdown",
   "id": "c9138aca",
   "metadata": {},
   "source": [
    "### Only Electron interactions"
   ]
  },
  {
   "cell_type": "code",
   "execution_count": 9,
   "id": "7947f701",
   "metadata": {},
   "outputs": [
    {
     "name": "stdout",
     "output_type": "stream",
     "text": [
      "0:00:33.313267\n"
     ]
    }
   ],
   "source": [
    "start=dt.datetime.now()\n",
    "hmass_el = []\n",
    "z1mass_el= []\n",
    "z2mass_el= []\n",
    "count = 0\n",
    "for e in hzz4e:\n",
    "    nElec = e['nElectron'] # How many compnents in muon vector\n",
    "    elec = []\n",
    "    for i in range(nElec):\n",
    "        elec.append(vector.obj(pt=e['Electron_pt'][i],eta=e['Electron_eta'][i],\n",
    "                              phi=e['Electron_phi'][i],mass=e['Electron_mass'][i])) # list of vectors\n",
    "        \n",
    "    combos = itertools.combinations(range(nElec),2) # find combinations like (0, 1), (0, 2),...,(2, 3)\n",
    "    Z_el_can = []\n",
    "\n",
    "    for j in combos:                                # in total there are 6 possible combinations bc of 4 comp\n",
    "        m1 = elec[j[0]] # 1st mass of the combination\n",
    "        m2 = elec[j[1]] # 2nd mass of the combination\n",
    "        z = m1 + m2              # sum of the muon masses \n",
    "        ch1 = e['Electron_charge'][j[0]] # 1st charge of the combination\n",
    "        ch2 = e['Electron_charge'][j[1]] # 2nd charge of the combination\n",
    "        if not (ch1 + ch2): # '+/-' and '+/-' not possible, only '+' and '-'\n",
    "            #count = count + 1\n",
    "            Z_el_can.append([z.mass,j[0],j[1]]) # find leptons with different charge combinations \n",
    "    #print(Z_mu_can)                     # and write into a list named 'massMuon'\n",
    "    zbest = 0\n",
    "    best = 9999 #sufficiently large that is bigger than 91\n",
    "    zother=[]\n",
    "    for z_vec in Z_el_can:\n",
    "        d = abs(z_vec[0] - 91.)\n",
    "        if d < best:\n",
    "            zbest = z_vec   # chooses best Z1 [93.66, 2, 3]\n",
    "            best = d        # last two indecies give a hint about z2 values\n",
    "\n",
    "    if not sum(e['Electron_charge']): # meaning charge vector needs to be eq. to 0\n",
    "        idx = [i for i in range(nElec) if i not in zbest[1:]]    # if z1 [2,3] then z2 [0,1]\n",
    "        zother = [i for i in Z_el_can if idx[0]==i[1] and idx[1]==i[2]][0]\n",
    "        hmass_el.append((elec[0] + elec[1] + elec[2] + elec[3]).mass) #Higgs # for elmu (mus[0] + mus[1] + mel[0] + mus[1]).mass\n",
    "        z1mass_el.append(zbest[0])     # mus[0] + mus[1] but needs a condition that it is closer to 91 GeV\n",
    "        z2mass_el.append(zother[0])    # el[0] + el[1] but vice versa.\n",
    "    #print(zbest,'\\t', zother)\n",
    "stop=dt.datetime.now()\n",
    "#print(count)      # how many components are in massMuon\n",
    "#print(zbest)\n",
    "print(stop-start)\n"
   ]
  },
  {
   "cell_type": "code",
   "execution_count": 10,
   "id": "25dbbadc",
   "metadata": {},
   "outputs": [
    {
     "name": "stdout",
     "output_type": "stream",
     "text": [
      "5598 5598 5598\n"
     ]
    },
    {
     "data": {
      "text/html": [
       "<div>\n",
       "<style scoped>\n",
       "    .dataframe tbody tr th:only-of-type {\n",
       "        vertical-align: middle;\n",
       "    }\n",
       "\n",
       "    .dataframe tbody tr th {\n",
       "        vertical-align: top;\n",
       "    }\n",
       "\n",
       "    .dataframe thead th {\n",
       "        text-align: right;\n",
       "    }\n",
       "</style>\n",
       "<table border=\"1\" class=\"dataframe\">\n",
       "  <thead>\n",
       "    <tr style=\"text-align: right;\">\n",
       "      <th></th>\n",
       "      <th>higgs</th>\n",
       "      <th>Z1</th>\n",
       "      <th>Z2</th>\n",
       "      <th>weight</th>\n",
       "    </tr>\n",
       "  </thead>\n",
       "  <tbody>\n",
       "    <tr>\n",
       "      <th>0</th>\n",
       "      <td>123.171802</td>\n",
       "      <td>76.752531</td>\n",
       "      <td>39.070825</td>\n",
       "      <td>0.000824</td>\n",
       "    </tr>\n",
       "    <tr>\n",
       "      <th>1</th>\n",
       "      <td>123.002380</td>\n",
       "      <td>89.996619</td>\n",
       "      <td>24.098241</td>\n",
       "      <td>0.000824</td>\n",
       "    </tr>\n",
       "    <tr>\n",
       "      <th>2</th>\n",
       "      <td>128.669305</td>\n",
       "      <td>76.454656</td>\n",
       "      <td>41.133385</td>\n",
       "      <td>0.000824</td>\n",
       "    </tr>\n",
       "    <tr>\n",
       "      <th>3</th>\n",
       "      <td>107.587129</td>\n",
       "      <td>73.297194</td>\n",
       "      <td>30.070214</td>\n",
       "      <td>0.000824</td>\n",
       "    </tr>\n",
       "    <tr>\n",
       "      <th>4</th>\n",
       "      <td>128.919869</td>\n",
       "      <td>97.334217</td>\n",
       "      <td>28.285901</td>\n",
       "      <td>0.000824</td>\n",
       "    </tr>\n",
       "  </tbody>\n",
       "</table>\n",
       "</div>"
      ],
      "text/plain": [
       "        higgs         Z1         Z2    weight\n",
       "0  123.171802  76.752531  39.070825  0.000824\n",
       "1  123.002380  89.996619  24.098241  0.000824\n",
       "2  128.669305  76.454656  41.133385  0.000824\n",
       "3  107.587129  73.297194  30.070214  0.000824\n",
       "4  128.919869  97.334217  28.285901  0.000824"
      ]
     },
     "execution_count": 10,
     "metadata": {},
     "output_type": "execute_result"
    }
   ],
   "source": [
    "#sigma = 106.7 #fb, calculated by theorists\n",
    "#L     = 11.58 #fb^-1 luminocity, determined by the machine\n",
    "print(len(hmass_el),len(z1mass_el),len(z2mass_el))\n",
    "N_ent_el = 1499093\n",
    "w_el = sigma*L/N_ent_el\n",
    "df_el = pd.DataFrame({\"higgs\":hmass_el, \"Z1\":z1mass_el, \"Z2\":z2mass_el, \"weight\":w_el})\n",
    "df_el.head()"
   ]
  },
  {
   "cell_type": "markdown",
   "id": "ef7c319a",
   "metadata": {},
   "source": [
    "### Electron and Muon Interactions"
   ]
  },
  {
   "cell_type": "code",
   "execution_count": 11,
   "id": "b8c50551",
   "metadata": {},
   "outputs": [],
   "source": [
    "#hzz2e2mu.to_list()"
   ]
  },
  {
   "cell_type": "code",
   "execution_count": 12,
   "id": "16f076b6",
   "metadata": {},
   "outputs": [
    {
     "name": "stdout",
     "output_type": "stream",
     "text": [
      "0:00:32.473730\n"
     ]
    }
   ],
   "source": [
    "start=dt.datetime.now()\n",
    "hmass_elmu = []\n",
    "z1mass_elmu= []\n",
    "z2mass_elmu= []\n",
    "count = 0\n",
    "for e in hzz2e2mu:\n",
    "    nElMu = e['nMuon'] # How many compnents in muon vector\n",
    "    mu = []\n",
    "    el = []\n",
    "    for i in range(nElMu):\n",
    "        mu.append(vector.obj(pt=e['Muon_pt'][i],eta=e['Muon_eta'][i],\n",
    "                              phi=e['Muon_phi'][i],mass=e['Muon_mass'][i]))\n",
    "        el.append(vector.obj(pt=e['Electron_pt'][i],eta=e['Electron_eta'][i],\n",
    "                              phi=e['Electron_phi'][i],mass=e['Electron_mass'][i]))\n",
    "    \n",
    "    z_mu = mu[0] + mu[1]\n",
    "    z_el = el[0] + el[1]\n",
    "    if not sum(e['Muon_charge']) and not sum(e['Electron_charge']): # meaning charge vector needs to be eq. to 0\n",
    "        hmass_elmu.append((z_el + z_mu).mass) #Higgs # for elmu (mus[0] + mus[1] + mel[0] + mus[1]).mass\n",
    "        if abs(z_el.mass - 91) < abs(z_mu.mass-91):\n",
    "            z1mass_elmu.append(z_el.mass)     # mus[0] + mus[1] but needs a condition that it is closer to 91 GeV\n",
    "            z2mass_elmu.append(z_mu.mass)    # el[0] + el[1] but vice versa.\n",
    "        else:\n",
    "            z1mass_elmu.append(z_mu.mass)\n",
    "            z2mass_elmu.append(z_el.mass)\n",
    "\n",
    "    #print(zbest,'\\t', zother)\n",
    "stop=dt.datetime.now()\n",
    "#print(count)      # how many components are in massMuon\n",
    "#print(zbest)\n",
    "print(stop-start)\n"
   ]
  },
  {
   "cell_type": "code",
   "execution_count": 13,
   "id": "39d856af",
   "metadata": {},
   "outputs": [
    {
     "name": "stdout",
     "output_type": "stream",
     "text": [
      "12612 12612 12612\n"
     ]
    }
   ],
   "source": [
    "print(len(hmass_elmu),len(z1mass_elmu),len(z2mass_elmu))"
   ]
  },
  {
   "cell_type": "code",
   "execution_count": 14,
   "id": "438920d5",
   "metadata": {},
   "outputs": [
    {
     "data": {
      "text/html": [
       "<div>\n",
       "<style scoped>\n",
       "    .dataframe tbody tr th:only-of-type {\n",
       "        vertical-align: middle;\n",
       "    }\n",
       "\n",
       "    .dataframe tbody tr th {\n",
       "        vertical-align: top;\n",
       "    }\n",
       "\n",
       "    .dataframe thead th {\n",
       "        text-align: right;\n",
       "    }\n",
       "</style>\n",
       "<table border=\"1\" class=\"dataframe\">\n",
       "  <thead>\n",
       "    <tr style=\"text-align: right;\">\n",
       "      <th></th>\n",
       "      <th>higgs</th>\n",
       "      <th>Z1</th>\n",
       "      <th>Z2</th>\n",
       "      <th>weight</th>\n",
       "    </tr>\n",
       "  </thead>\n",
       "  <tbody>\n",
       "    <tr>\n",
       "      <th>0</th>\n",
       "      <td>127.204983</td>\n",
       "      <td>89.203033</td>\n",
       "      <td>27.516144</td>\n",
       "      <td>0.000825</td>\n",
       "    </tr>\n",
       "    <tr>\n",
       "      <th>1</th>\n",
       "      <td>125.234140</td>\n",
       "      <td>90.285635</td>\n",
       "      <td>22.878929</td>\n",
       "      <td>0.000825</td>\n",
       "    </tr>\n",
       "    <tr>\n",
       "      <th>2</th>\n",
       "      <td>124.515146</td>\n",
       "      <td>89.532225</td>\n",
       "      <td>32.973686</td>\n",
       "      <td>0.000825</td>\n",
       "    </tr>\n",
       "    <tr>\n",
       "      <th>3</th>\n",
       "      <td>124.721181</td>\n",
       "      <td>90.901835</td>\n",
       "      <td>21.138948</td>\n",
       "      <td>0.000825</td>\n",
       "    </tr>\n",
       "    <tr>\n",
       "      <th>4</th>\n",
       "      <td>125.586828</td>\n",
       "      <td>87.333601</td>\n",
       "      <td>30.304454</td>\n",
       "      <td>0.000825</td>\n",
       "    </tr>\n",
       "  </tbody>\n",
       "</table>\n",
       "</div>"
      ],
      "text/plain": [
       "        higgs         Z1         Z2    weight\n",
       "0  127.204983  89.203033  27.516144  0.000825\n",
       "1  125.234140  90.285635  22.878929  0.000825\n",
       "2  124.515146  89.532225  32.973686  0.000825\n",
       "3  124.721181  90.901835  21.138948  0.000825\n",
       "4  125.586828  87.333601  30.304454  0.000825"
      ]
     },
     "execution_count": 14,
     "metadata": {},
     "output_type": "execute_result"
    }
   ],
   "source": [
    "N_ent_elmu = 1497445\n",
    "w_elmu = sigma*L/N_ent_elmu\n",
    "df_elmu = pd.DataFrame({\"higgs\":hmass_elmu, \"Z1\":z1mass_elmu, \"Z2\":z2mass_elmu, \"weight\":w_elmu})\n",
    "df_elmu.head()"
   ]
  },
  {
   "cell_type": "code",
   "execution_count": 17,
   "id": "d7ce2151",
   "metadata": {},
   "outputs": [
    {
     "data": {
      "text/plain": [
       "(array([7.42616523e-03, 9.90155365e-03, 1.23769421e-02, 1.73277189e-02,\n",
       "        1.56774599e-02, 1.89779778e-02, 1.65025894e-02, 1.32020715e-02,\n",
       "        1.56774599e-02, 2.55790136e-02, 3.21800494e-02, 6.84857461e-02,\n",
       "        9.65401481e-02, 2.14533662e-01, 5.87492183e-01, 2.79636378e+00,\n",
       "        5.60510449e+00, 7.21163157e-01, 7.50867818e-02, 1.98031073e-02,\n",
       "        6.60103576e-03, 2.47538841e-03, 2.47538841e-03, 0.00000000e+00,\n",
       "        8.25129471e-04, 1.65025894e-03, 1.65025894e-03, 1.65025894e-03,\n",
       "        0.00000000e+00, 0.00000000e+00, 1.65025894e-03, 0.00000000e+00,\n",
       "        0.00000000e+00, 0.00000000e+00]),\n",
       " array([ 60,  64,  68,  72,  76,  80,  84,  88,  92,  96, 100, 104, 108,\n",
       "        112, 116, 120, 124, 128, 132, 136, 140, 144, 148, 152, 156, 160,\n",
       "        164, 168, 172, 176, 180, 184, 188, 192, 196]),\n",
       " <BarContainer object of 34 artists>)"
      ]
     },
     "execution_count": 17,
     "metadata": {},
     "output_type": "execute_result"
    },
    {
     "data": {
      "image/png": "[encoded data removed]",
      "text/plain": [
       "<Figure size 720x360 with 1 Axes>"
      ]
     },
     "metadata": {
      "needs_background": "light"
     },
     "output_type": "display_data"
    }
   ],
   "source": [
    "plt.rcParams['figure.figsize'] = [10,5]\n",
    "plt.hist(df_elmu.higgs, bins=range(60,200,4),weights=df_elmu.weight)"
   ]
  },
  {
   "cell_type": "code",
   "execution_count": 19,
   "id": "8d7aeb07",
   "metadata": {},
   "outputs": [
    {
     "data": {
      "text/plain": [
       "(0.0, 70.0)"
      ]
     },
     "execution_count": 19,
     "metadata": {},
     "output_type": "execute_result"
    },
    {
     "data": {
      "image/png": "[encoded data removed]",
      "text/plain": [
       "<Figure size 720x360 with 1 Axes>"
      ]
     },
     "metadata": {
      "needs_background": "light"
     },
     "output_type": "display_data"
    }
   ],
   "source": [
    "plt.scatter(df_elmu.Z1, df_elmu.Z2,s=0.1)\n",
    "plt.xlim(20,110)\n",
    "plt.ylim(0,70)"
   ]
  },
  {
   "cell_type": "code",
   "execution_count": null,
   "id": "a561e087",
   "metadata": {},
   "outputs": [],
   "source": []
  },
  {
   "cell_type": "code",
   "execution_count": 30,
   "id": "62e7a8a2",
   "metadata": {},
   "outputs": [
    {
     "data": {
      "text/plain": [
       "Text(0, 0.5, 'N events / 5 GeV')"
      ]
     },
     "execution_count": 30,
     "metadata": {},
     "output_type": "execute_result"
    },
    {
     "data": {
      "image/png": "[encoded data removed]",
      "text/plain": [
       "<Figure size 720x360 with 1 Axes>"
      ]
     },
     "metadata": {
      "needs_background": "light"
     },
     "output_type": "display_data"
    }
   ],
   "source": [
    "bins = range(0,120,5)\n",
    "binCenters=[(bins[i]+bins[i+1])/2 for i in range(len(bins)-1)]\n",
    "\n",
    "plt.hist(df_elmu.Z1, weights=df_elmu.weight,bins=bins,label='ZZ->2e2mu')\n",
    "dd = df_elmu.higgs.tolist() + df_elmu.Z1.tolist()+df_elmu.Z2.to_list()+df_elmu.weight.to_list()\n",
    "data = np.histogram(dd,bins=bins)\n",
    "plt.errorbar(binCenters,data[0], yerr=np.sqrt(data[0]), fmt='o', c='black',label='data')\n",
    "plt.legend()\n",
    "plt.xlabel('Mass of Z candidate [GeV]')\n",
    "plt.ylabel('N events / 5 GeV')"
   ]
  },
  {
   "cell_type": "code",
   "execution_count": 29,
   "id": "b7df3bfa",
   "metadata": {},
   "outputs": [
    {
     "data": {
      "text/plain": [
       "<matplotlib.collections.PathCollection at 0x7f7df96cd1b0>"
      ]
     },
     "execution_count": 29,
     "metadata": {},
     "output_type": "execute_result"
    },
    {
     "data": {
      "image/png": "[encoded data removed]",
      "text/plain": [
       "<Figure size 720x360 with 1 Axes>"
      ]
     },
     "metadata": {
      "needs_background": "light"
     },
     "output_type": "display_data"
    }
   ],
   "source": [
    "plt.scatter(df_elmu.Z1,df_elmu.Z2,s=0.1,label='ZZ')\n",
    "\n",
    "plt.xlim(20,110)\n",
    "plt.ylim(0,70)"
   ]
  },
  {
   "cell_type": "code",
   "execution_count": 15,
   "id": "435bbcf7",
   "metadata": {},
   "outputs": [],
   "source": [
    "# Function to find element\n",
    "# closest to given target.\n",
    "# LINK: https://stackoverflow.com/questions/2566412/find-nearest-value-in-numpy-array\n",
    "# Returns element closest to target in array\n",
    "def find_nearest(array, target):\n",
    "    array = np.asarray(array)\n",
    "    idx = (np.abs(array - target)).argmin()\n",
    "    return array[idx]"
   ]
  }
 ],
 "metadata": {
  "kernelspec": {
   "display_name": "Python 3.10.7 64-bit",
   "language": "python",
   "name": "python3"
  },
  "language_info": {
   "codemirror_mode": {
    "name": "ipython",
    "version": 3
   },
   "file_extension": ".py",
   "mimetype": "text/x-python",
   "name": "python",
   "nbconvert_exporter": "python",
   "pygments_lexer": "ipython3",
   "version": "3.10.7"
  },
  "vscode": {
   "interpreter": {
    "hash": "e7370f93d1d0cde622a1f8e1c04877d8463912d04d973331ad4851f04de6915a"
   }
  }
 },
 "nbformat": 4,
 "nbformat_minor": 5
}
